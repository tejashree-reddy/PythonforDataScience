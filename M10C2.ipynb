{
 "cells": [
  {
   "cell_type": "code",
   "execution_count": 2,
   "id": "61709b76",
   "metadata": {},
   "outputs": [],
   "source": [
    "import pandas as pd\n",
    "import numpy as np\n",
    "import matplotlib.pyplot as plt"
   ]
  },
  {
   "cell_type": "code",
   "execution_count": 12,
   "id": "2b5f5ef4",
   "metadata": {},
   "outputs": [
    {
     "name": "stdout",
     "output_type": "stream",
     "text": [
      "Pillow Version: 8.3.1\n"
     ]
    }
   ],
   "source": [
    "import PIL\n",
    "print('Pillow Version:', PIL.__version__)"
   ]
  },
  {
   "cell_type": "code",
   "execution_count": null,
   "id": "290d1b2c",
   "metadata": {},
   "outputs": [],
   "source": [
    "#Open and display the image “dog.jpeg”.\n",
    "#Convert the image in to numpy array,so that i can be   used in further processing."
   ]
  },
  {
   "cell_type": "code",
   "execution_count": 25,
   "id": "2373c5de",
   "metadata": {},
   "outputs": [
    {
     "data": {
      "image/jpeg": "[encoded data removed]",
      "text/plain": [
       "<IPython.core.display.Image object>"
      ]
     },
     "execution_count": 25,
     "metadata": {},
     "output_type": "execute_result"
    }
   ],
   "source": [
    "from IPython import display\n",
    "image_Real=display.Image('dogs.jpeg')\n",
    "image_Real"
   ]
  },
  {
   "cell_type": "code",
   "execution_count": 26,
   "id": "f22623e4",
   "metadata": {},
   "outputs": [
    {
     "name": "stdout",
     "output_type": "stream",
     "text": [
      "jpeg\n"
     ]
    }
   ],
   "source": [
    "print(image.format)\n",
    "#print(image.shape)\n",
    "#print(image.mode)"
   ]
  },
  {
   "cell_type": "code",
   "execution_count": 39,
   "id": "b02ad546",
   "metadata": {},
   "outputs": [],
   "source": [
    "image=PIL.Image.open(\"dogs.jpeg\")\n"
   ]
  },
  {
   "cell_type": "code",
   "execution_count": 44,
   "id": "cda146fd",
   "metadata": {},
   "outputs": [
    {
     "name": "stdout",
     "output_type": "stream",
     "text": [
      "185x272\n"
     ]
    }
   ],
   "source": [
    "wid, hgt = image.size\n",
    "print(str(hgt) + \"x\" + str(wid))"
   ]
  },
  {
   "cell_type": "code",
   "execution_count": null,
   "id": "ec2d83e5",
   "metadata": {},
   "outputs": [],
   "source": [
    "#Find out the dimensions of the image and convert it in to a two-dimensional array. "
   ]
  },
  {
   "cell_type": "code",
   "execution_count": 81,
   "id": "576df129",
   "metadata": {},
   "outputs": [],
   "source": [
    "# np_image = np.array(image)\n",
    "# print(np_image.shape)\n"
   ]
  },
  {
   "cell_type": "code",
   "execution_count": 52,
   "id": "edc94efd",
   "metadata": {},
   "outputs": [],
   "source": [
    "image_sequence = image.getdata()\n",
    "image_array = np.array(image_sequence)"
   ]
  },
  {
   "cell_type": "code",
   "execution_count": 56,
   "id": "74ccb97f",
   "metadata": {},
   "outputs": [
    {
     "data": {
      "text/plain": [
       "(50320, 3)"
      ]
     },
     "execution_count": 56,
     "metadata": {},
     "output_type": "execute_result"
    }
   ],
   "source": [
    "image_array.shape"
   ]
  },
  {
   "cell_type": "code",
   "execution_count": 64,
   "id": "a36ceaca",
   "metadata": {},
   "outputs": [],
   "source": [
    "# 3.Use kmeans clustering with k set to 3 and cluster the image."
   ]
  },
  {
   "cell_type": "code",
   "execution_count": 65,
   "id": "3f64f68c",
   "metadata": {},
   "outputs": [],
   "source": [
    "from sklearn.cluster import KMeans\n",
    "kmeans = KMeans(n_clusters = 3, init = 'k-means++', random_state = 42)\n",
    "y_kmeans=kmeans.fit_predict(image_array)"
   ]
  },
  {
   "cell_type": "code",
   "execution_count": 83,
   "id": "1cbd3bfd",
   "metadata": {},
   "outputs": [
    {
     "data": {
      "image/png": "[encoded data removed]",
      "text/plain": [
       "<Figure size 432x288 with 1 Axes>"
      ]
     },
     "metadata": {
      "needs_background": "light"
     },
     "output_type": "display_data"
    }
   ],
   "source": [
    "plt.scatter(image_array[y_kmeans == 0, 0], image_array[y_kmeans == 0, 1], s = 100)\n",
    "plt.scatter(image_array[y_kmeans == 1, 0], image_array[y_kmeans == 1, 1], s = 100)\n",
    "plt.scatter(image_array[y_kmeans == 2, 0], image_array[y_kmeans == 2, 1], s = 100)\n",
    "plt.scatter(kmeans.cluster_centers_[:, 0], kmeans.cluster_centers_[:, 1], s = 300)\n",
    "plt.show()"
   ]
  },
  {
   "cell_type": "code",
   "execution_count": 67,
   "id": "ea399826",
   "metadata": {},
   "outputs": [
    {
     "data": {
      "text/plain": [
       "array([[ 29.54457989,  21.59875362,  20.45257749],\n",
       "       [251.57755792, 247.71576397, 243.14542426],\n",
       "       [210.58570727, 174.97364113, 143.95383104]])"
      ]
     },
     "execution_count": 67,
     "metadata": {},
     "output_type": "execute_result"
    }
   ],
   "source": [
    "kmeans.cluster_centers_"
   ]
  },
  {
   "cell_type": "code",
   "execution_count": 73,
   "id": "3d84de67",
   "metadata": {},
   "outputs": [],
   "source": [
    "import cv2\n",
    "image = cv2.cvtColor(np_image, cv2.COLOR_BGR2RGB)"
   ]
  },
  {
   "cell_type": "code",
   "execution_count": 76,
   "id": "2dbf18ca",
   "metadata": {},
   "outputs": [
    {
     "name": "stdout",
     "output_type": "stream",
     "text": [
      "(50320, 3)\n"
     ]
    }
   ],
   "source": [
    "pixel_values = image.reshape((-1, 3))\n",
    "pixel_values = np.float32(pixel_values)\n",
    "print(pixel_values.shape)\n"
   ]
  },
  {
   "cell_type": "code",
   "execution_count": 77,
   "id": "f6236b7c",
   "metadata": {},
   "outputs": [],
   "source": [
    "criteria = (cv2.TERM_CRITERIA_EPS + cv2.TERM_CRITERIA_MAX_ITER, 100, 0.2)"
   ]
  },
  {
   "cell_type": "code",
   "execution_count": 78,
   "id": "62d3bd9d",
   "metadata": {},
   "outputs": [],
   "source": [
    "k = 3\n",
    "_, labels, (centers) = cv2.kmeans(pixel_values, k, None, criteria, 10, cv2.KMEANS_RANDOM_CENTERS)"
   ]
  },
  {
   "cell_type": "code",
   "execution_count": 79,
   "id": "be0bf1a0",
   "metadata": {},
   "outputs": [],
   "source": [
    "centers = np.uint8(centers)\n",
    "\n",
    "labels = labels.flatten()"
   ]
  },
  {
   "cell_type": "code",
   "execution_count": 80,
   "id": "669d9743",
   "metadata": {},
   "outputs": [
    {
     "data": {
      "image/png": "[encoded data removed]",
      "text/plain": [
       "<Figure size 432x288 with 1 Axes>"
      ]
     },
     "metadata": {
      "needs_background": "light"
     },
     "output_type": "display_data"
    }
   ],
   "source": [
    "segmented_image = centers[labels.flatten()]\n",
    "# reshape back to the original image dimension\n",
    "segmented_image = segmented_image.reshape(image.shape)\n",
    "# show the image\n",
    "plt.imshow(segmented_image)\n",
    "plt.show()"
   ]
  },
  {
   "cell_type": "markdown",
   "id": "4a5d52c9",
   "metadata": {},
   "source": [
    "##### Dominant colours are light blue, black and grey"
   ]
  },
  {
   "cell_type": "code",
   "execution_count": null,
   "id": "ac675aac",
   "metadata": {},
   "outputs": [],
   "source": []
  }
 ],
 "metadata": {
  "kernelspec": {
   "display_name": "Python 3",
   "language": "python",
   "name": "python3"
  },
  "language_info": {
   "codemirror_mode": {
    "name": "ipython",
    "version": 3
   },
   "file_extension": ".py",
   "mimetype": "text/x-python",
   "name": "python",
   "nbconvert_exporter": "python",
   "pygments_lexer": "ipython3",
   "version": "3.9.5"
  }
 },
 "nbformat": 4,
 "nbformat_minor": 5
}
