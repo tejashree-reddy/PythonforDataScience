{
 "cells": [
  {
   "cell_type": "code",
   "execution_count": 2,
   "metadata": {},
   "outputs": [],
   "source": [
    "#Read the input from command line –Reference ID\n",
    "#2.Check for validity –it should be 12 digits and allows on number andalphabet\n",
    "#Encrypt the Reference ID and print it for referenceEnhancements for code\n",
    "#You can try these enhancements in code1.Allow some special characters in ReferenceID\n",
    "#2.Give the option for decryption to user \n"
   ]
  },
  {
   "cell_type": "code",
   "execution_count": 3,
   "metadata": {},
   "outputs": [
    {
     "name": "stdout",
     "output_type": "stream",
     "text": [
      "Enter the reference ID :12345678iouy\n",
      "Encrypted ID:  yuoi87654321\n",
      "Decrpted ID:  12345678iouy\n"
     ]
    }
   ],
   "source": [
    "#Without special characters\n",
    "referenceID= input(\"Enter the reference ID :\")\n",
    "if len(referenceID)==12 and referenceID.isalnum():\n",
    "    encrypted= '' \n",
    "    e=[referenceID[i] for i in range(len(referenceID)-1,-1,-1)]\n",
    "    encrypted= encrypted.join(e)\n",
    "    print(\"Encrypted ID: \",encrypted)\n",
    "    decrypted= ''\n",
    "    d=[encrypted[i] for i in range(len(encrypted)-1,-1,-1)]\n",
    "    decrypted= decrypted.join(d)\n",
    "    print(\"Decrpted ID: \", decrypted)\n",
    "else:\n",
    "    print(\"Invalid reference ID\")"
   ]
  },
  {
   "cell_type": "code",
   "execution_count": null,
   "metadata": {},
   "outputs": [],
   "source": [
    "\n"
   ]
  },
  {
   "cell_type": "code",
   "execution_count": 4,
   "metadata": {},
   "outputs": [
    {
     "name": "stdout",
     "output_type": "stream",
     "text": [
      "Enter the reference ID :12345678Iou*\n",
      "Encrypted ID:  *uoI87654321\n",
      "Decrpted ID:  12345678Iou*\n"
     ]
    }
   ],
   "source": [
    "#Accepting special characters\n",
    "import re\n",
    "\n",
    "\n",
    "referenceID= input(\"Enter the reference ID :\")\n",
    "flag = 0\n",
    "while True:   \n",
    "    if (len(referenceID) != 12): \n",
    "#         print(\"len\")\n",
    "        flag = -1\n",
    "        break\n",
    "    elif not re.search(\"[a-z]\", referenceID) and not re.search(\"[A-Z]\", referenceID):\n",
    "#         print(\"alpha\")\n",
    "        flag = -1\n",
    "        break\n",
    "    elif not re.search(\"[0-9]\", referenceID): \n",
    "#         print(\"num\")\n",
    "        flag = -1\n",
    "        break\n",
    "    elif not re.search(\"[@_!#$%^&*()<>?/\\|}{~:]\", referenceID): \n",
    "#         print(\"special\")\n",
    "        flag = -1\n",
    "        break\n",
    "    else: \n",
    "        flag = 0\n",
    "        break\n",
    "        \n",
    "if flag == 0:\n",
    "    encrypted= '' \n",
    "    e=[referenceID[i] for i in range(len(referenceID)-1,-1,-1)]\n",
    "    encrypted= encrypted.join(e)\n",
    "    print(\"Encrypted ID: \",encrypted)\n",
    "    decrypted= ''\n",
    "    d=[encrypted[i] for i in range(len(encrypted)-1,-1,-1)]\n",
    "    decrypted= decrypted.join(d)\n",
    "    print(\"Decrpted ID: \", decrypted)\n",
    "else:\n",
    "    print(\"Invalid reference ID\")\n"
   ]
  }
 ],
 "metadata": {
  "kernelspec": {
   "display_name": "Python 3",
   "language": "python",
   "name": "python3"
  },
  "language_info": {
   "codemirror_mode": {
    "name": "ipython",
    "version": 3
   },
   "file_extension": ".py",
   "mimetype": "text/x-python",
   "name": "python",
   "nbconvert_exporter": "python",
   "pygments_lexer": "ipython3",
   "version": "3.7.4"
  }
 },
 "nbformat": 4,
 "nbformat_minor": 2
}
