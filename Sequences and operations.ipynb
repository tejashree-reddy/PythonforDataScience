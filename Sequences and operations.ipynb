{
 "cells": [
  {
   "cell_type": "code",
   "execution_count": 1,
   "metadata": {},
   "outputs": [
    {
     "name": "stdout",
     "output_type": "stream",
     "text": [
      "4\n"
     ]
    }
   ],
   "source": [
    "#1.What is the output of the following code?\n",
    "\n",
    "nums =set([1,1,2,3,3,3,4,4])\n",
    "print(len(nums))"
   ]
  },
  {
   "cell_type": "code",
   "execution_count": 2,
   "metadata": {},
   "outputs": [
    {
     "name": "stdout",
     "output_type": "stream",
     "text": [
      "['john', 'peter']\n"
     ]
    }
   ],
   "source": [
    "#2.What will be the output?\n",
    "\n",
    "d ={\"john\":40, \"peter\":45}\n",
    "print(list(d.keys()))"
   ]
  },
  {
   "cell_type": "code",
   "execution_count": 9,
   "metadata": {},
   "outputs": [
    {
     "name": "stdout",
     "output_type": "stream",
     "text": [
      "Enter the passwordassword : @2018Tejj\n",
      "Valid password\n"
     ]
    }
   ],
   "source": [
    "#3 '''\n",
    "# A website requires a user to inpasswordut username and passwordassword to register. \n",
    "# Write a passwordrogram to check the validity of passwordassword given by user. \n",
    "# Following are the criteria for checking passwordassword:#\n",
    "# 1. At least 1 letter between [a-z]\n",
    "# 2. At least 1 number between [0-9]\n",
    "# 1. At least 1 letter between [A-Z]\n",
    "# 3. At least 1 character from [$#@]\n",
    "# 4. Minimum length of transaction passwordassword: 6\n",
    "# 5. Maximum length of transaction passwordassword: 12\n",
    "# Hint: In case of inpasswordut data being supasswordpasswordliedto the question, it should be assumed to be console inpasswordut\n",
    "# '''\n",
    "\n",
    "import re\n",
    "\n",
    "password=str(input(\"Enter the passwordassword : \"))\n",
    "x = True\n",
    "while x:  \n",
    "    if not re.search(\"[a-z]\",password):\n",
    "        break\n",
    "    elif not re.search(\"[0-9]\",password):\n",
    "        break\n",
    "    elif not re.search(\"[A-Z]\",password):\n",
    "        break\n",
    "    elif not re.search(\"[$#@]\",password):\n",
    "        break\n",
    "    elif (len(password)<6 or len(password)>12):\n",
    "        break\n",
    "    elif re.search(\"\\s\",password):\n",
    "        break\n",
    "    else:\n",
    "        print(\"Valid password\")\n",
    "        x=False\n",
    "        break\n",
    "\n",
    "if x:\n",
    "    print(\"Not a Valid password\")\n"
   ]
  },
  {
   "cell_type": "code",
   "execution_count": 7,
   "metadata": {},
   "outputs": [
    {
     "name": "stdout",
     "output_type": "stream",
     "text": [
      "Element: 4 Index: 0\n",
      "Element: 7 Index: 1\n",
      "Element: 3 Index: 2\n",
      "Element: 2 Index: 3\n",
      "Element: 5 Index: 4\n",
      "Element: 9 Index: 5\n"
     ]
    }
   ],
   "source": [
    "#4 Write a for loop that prints all elements of a list and their position in the list.\n",
    "#a = [4,7,3,2,5,9] \n",
    "#Hint: Use Loop to iterate through list elements.\n",
    "\n",
    "\n",
    "\n",
    "a = [4,7,3,2,5,9]\n",
    "\n",
    "for i in a:\n",
    "    print(\"Element: \" + str(i) + \" Index: \"+ str(a.index(i)))"
   ]
  },
  {
   "cell_type": "code",
   "execution_count": 6,
   "metadata": {},
   "outputs": [
    {
     "name": "stdout",
     "output_type": "stream",
     "text": [
      "Enter the string : H1e2l3l4o5w6o7r8l9d\n",
      "Helloworld\n"
     ]
    }
   ],
   "source": [
    "# 5 Please   write   a   program   which accepts  a   string   from   console   and   print   the characters that have even indexes.\n",
    "#Example: If the following string is given as input to the program:H1e2l3l4o5w6o7r8l9dThen, the output of the program should be:Helloworld\n",
    "\n",
    "\n",
    "s=str(input(\"Enter the string : \"))\n",
    "\n",
    "result=\"\"\n",
    "    \n",
    "for i in s:\n",
    "        \n",
    "    if int(s.index(i))%2==0:\n",
    "        result=result+i\n",
    "print(result) \n",
    "\n"
   ]
  },
  {
   "cell_type": "code",
   "execution_count": 2,
   "metadata": {},
   "outputs": [
    {
     "name": "stdout",
     "output_type": "stream",
     "text": [
      "Enter the string : rise to vote sir\n",
      "ris etov ot esir\n"
     ]
    }
   ],
   "source": [
    "#6 Please write a program which accepts a string from console and print it in reverse order.\n",
    "#Example: If the following string is given as input to the program: rise to vote sir\n",
    "\n",
    "def reverse(r):\n",
    "    return r[::-1]\n",
    "string=input(\"Enter the string : \")\n",
    "result=reverse(string)\n",
    "print(result)\n",
    "\n",
    "\n"
   ]
  },
  {
   "cell_type": "code",
   "execution_count": 5,
   "metadata": {},
   "outputs": [
    {
     "name": "stdout",
     "output_type": "stream",
     "text": [
      "Enter the string : abcdefgabc\n",
      "a,2\n",
      "b,2\n",
      "c,2\n",
      "d,1\n",
      "e,1\n",
      "f,1\n",
      "g,1\n"
     ]
    }
   ],
   "source": [
    "#7 Please write a program which count and print the numbers of each character in a string input by console.\n",
    "#Example: If the following string is given as input to the program:abcdefgabcThen, the output of the program should be:a,2c,2b,2e,1d,1g,1f\n",
    "\n",
    "\n",
    "string=input(\"Enter the string : \")\n",
    "characters=list(string)\n",
    "result=[]\n",
    "for j in characters:\n",
    "    if j not in result:\n",
    "        result.append(j)\n",
    "        count=0\n",
    "        for i in range(len(characters)):\n",
    "            if j==characters[i]:\n",
    "                count+=1\n",
    "        print(\"{},{}\".format(j,count))"
   ]
  },
  {
   "cell_type": "code",
   "execution_count": 19,
   "metadata": {},
   "outputs": [
    {
     "name": "stdout",
     "output_type": "stream",
     "text": [
      "[35]\n"
     ]
    }
   ],
   "source": [
    "#8 With   two   given   lists   [1,3,6,78,35,55]   and   [12,24,35,24,88,120,155],   \n",
    "#write   a program to make a list whose elements are intersection of the above given lists\n",
    "\n",
    "list1=[1,3,6,78,35,55]\n",
    "list2=[12,24,35,24,88,120,155]\n",
    "list_1=set(list1)\n",
    "list_2=set(list2)\n",
    "set1=list_1.intersection(list_2)\n",
    "result=list(set1)\n",
    "print(result)\n"
   ]
  },
  {
   "cell_type": "code",
   "execution_count": 26,
   "metadata": {},
   "outputs": [
    {
     "name": "stdout",
     "output_type": "stream",
     "text": [
      "[12, 35, 88, 120, 155]\n"
     ]
    }
   ],
   "source": [
    "#9 By usinglist comprehension, please write a program to print the list after removing the value 24 in [12,24,35,24,88,120,155].\n",
    "\n",
    "\n",
    "# list1=[12,24,35,24,88,120,155]\n",
    "# list2=[]  \n",
    "\n",
    "# for i in list1:\n",
    "#     if i not in list2:\n",
    "#         list2.append(i)\n",
    "# list2.remove(24)\n",
    "# print(list2)\n",
    "\n",
    "list1=[12,24,35,24,88,120,155]\n",
    "list2=[i for i in list1 if i!=24]\n",
    "# list2.remove(24)\n",
    "print(list2)"
   ]
  },
  {
   "cell_type": "code",
   "execution_count": 25,
   "metadata": {},
   "outputs": [
    {
     "name": "stdout",
     "output_type": "stream",
     "text": [
      "[24, 35, 70, 155]\n"
     ]
    }
   ],
   "source": [
    "#10 By using list comprehension, please write a program to print the list after removing the 0th,4th,5th numbers in [12,24,35,70,88,120,155]\n",
    "\n",
    "# list1= [12,24,35,70,88,120,155]\n",
    "# delete=[5,4,0]\n",
    "# for i in delete:\n",
    "#     del list1[i]\n",
    "    \n",
    "# print (list1)    \n",
    "list1= [12,24,35,70,88,120,155]\n",
    "dele = [0, 4, 5]\n",
    "list2 = [list1[i] for i in range (0, len(list1)) if i not in dele]\n",
    "print(list2)"
   ]
  },
  {
   "cell_type": "code",
   "execution_count": 27,
   "metadata": {},
   "outputs": [
    {
     "name": "stdout",
     "output_type": "stream",
     "text": [
      "[12, 24, 88, 120, 155]\n"
     ]
    }
   ],
   "source": [
    "#. 11 By using list comprehension, please write a program to \n",
    "#print the list after removing delete numbers which are divisible by 5 and 7 in [12,24,35,70,88,120,155].\n",
    "# list1=[12,24,35,70,88,120,155]\n",
    "# list2=[]\n",
    "# for i in list1:\n",
    "#     if i%5==0 and i%7==0:\n",
    "#         list2.append(i)\n",
    "# for i in list2:\n",
    "#     list1.remove(i)\n",
    "# print (list1)\n",
    "list1=[12,24,35,70,88,120,155]\n",
    "list2=[i for i in list1 if i%5==0 and i%7==0 ]\n",
    "final = [i for i in list1 if i not in list2]\n",
    "print(final)"
   ]
  },
  {
   "cell_type": "code",
   "execution_count": 6,
   "metadata": {},
   "outputs": [
    {
     "name": "stdout",
     "output_type": "stream",
     "text": [
      "Enter the number :5\n",
      "Output is : 3.55\n"
     ]
    }
   ],
   "source": [
    "# #12 Write a program to compute 1/2+2/3+3/4+...+n/n+1 with a given n input by console (n>0).\n",
    "\n",
    "# Example: If the following n is given as input to the program: 5\n",
    "\n",
    "# Then, the output of the program should be: 3.55\n",
    "\n",
    "\n",
    "\n",
    "\n",
    "n=int(input(\"Enter the number :\"))\n",
    "res=0\n",
    "for i in range(1,n+1):\n",
    "    res=res+(i/(i+1))\n",
    "    \n",
    "print(\"Output is : {}\".format(round(res,2)))"
   ]
  },
  {
   "cell_type": "code",
   "execution_count": null,
   "metadata": {},
   "outputs": [],
   "source": []
  }
 ],
 "metadata": {
  "kernelspec": {
   "display_name": "Python 3",
   "language": "python",
   "name": "python3"
  },
  "language_info": {
   "codemirror_mode": {
    "name": "ipython",
    "version": 3
   },
   "file_extension": ".py",
   "mimetype": "text/x-python",
   "name": "python",
   "nbconvert_exporter": "python",
   "pygments_lexer": "ipython3",
   "version": "3.9.5"
  }
 },
 "nbformat": 4,
 "nbformat_minor": 2
}
