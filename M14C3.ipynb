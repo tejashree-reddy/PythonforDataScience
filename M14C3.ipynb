{
 "cells": [
  {
   "cell_type": "code",
   "execution_count": 1,
   "id": "6872215c",
   "metadata": {},
   "outputs": [],
   "source": [
    "import pandas as pd\n",
    "import numpy as np"
   ]
  },
  {
   "cell_type": "code",
   "execution_count": 3,
   "id": "0b54e97f",
   "metadata": {},
   "outputs": [],
   "source": [
    "data=pd.read_csv(\"LetterCG.csv\")"
   ]
  },
  {
   "cell_type": "code",
   "execution_count": 5,
   "id": "97197131",
   "metadata": {},
   "outputs": [
    {
     "name": "stdout",
     "output_type": "stream",
     "text": [
      "<class 'pandas.core.frame.DataFrame'>\n",
      "RangeIndex: 1509 entries, 0 to 1508\n",
      "Data columns (total 17 columns):\n",
      " #   Column  Non-Null Count  Dtype \n",
      "---  ------  --------------  ----- \n",
      " 0   Class   1509 non-null   object\n",
      " 1   x-box   1509 non-null   int64 \n",
      " 2   y-box   1509 non-null   int64 \n",
      " 3   width   1509 non-null   int64 \n",
      " 4   high    1509 non-null   int64 \n",
      " 5   onpix   1509 non-null   int64 \n",
      " 6   x-bar   1509 non-null   int64 \n",
      " 7   y-bar   1509 non-null   int64 \n",
      " 8   x2bar   1509 non-null   int64 \n",
      " 9   y2bar   1509 non-null   int64 \n",
      " 10  xybar   1509 non-null   int64 \n",
      " 11  x2ybr   1509 non-null   int64 \n",
      " 12  xy2br   1509 non-null   int64 \n",
      " 13  x-ege   1509 non-null   int64 \n",
      " 14  xegvy   1509 non-null   int64 \n",
      " 15  y-ege   1509 non-null   int64 \n",
      " 16  yegvx   1509 non-null   int64 \n",
      "dtypes: int64(16), object(1)\n",
      "memory usage: 200.5+ KB\n"
     ]
    }
   ],
   "source": [
    "data.info()"
   ]
  },
  {
   "cell_type": "code",
   "execution_count": 11,
   "id": "d587b0bf",
   "metadata": {},
   "outputs": [],
   "source": [
    "X=data.iloc[:,1:17]\n",
    "Y=data.iloc[:,0:1]"
   ]
  },
  {
   "cell_type": "code",
   "execution_count": 13,
   "id": "35daf61f",
   "metadata": {},
   "outputs": [],
   "source": [
    "from sklearn.ensemble import AdaBoostClassifier\n",
    "from sklearn.model_selection import train_test_split\n",
    "from sklearn import metrics\n"
   ]
  },
  {
   "cell_type": "code",
   "execution_count": 15,
   "id": "2bf1fcbe",
   "metadata": {},
   "outputs": [],
   "source": [
    "x_train, x_test, y_train, y_test = train_test_split(X, Y, test_size=0.3)"
   ]
  },
  {
   "cell_type": "code",
   "execution_count": 18,
   "id": "04ef0bc4",
   "metadata": {},
   "outputs": [
    {
     "name": "stderr",
     "output_type": "stream",
     "text": [
      "c:\\users\\tejshree reddy\\appdata\\local\\programs\\python\\python39\\lib\\site-packages\\sklearn\\utils\\validation.py:63: DataConversionWarning: A column-vector y was passed when a 1d array was expected. Please change the shape of y to (n_samples, ), for example using ravel().\n",
      "  return f(*args, **kwargs)\n"
     ]
    }
   ],
   "source": [
    "ABC = AdaBoostClassifier(n_estimators=10,learning_rate=1)\n",
    "ABC = ABC.fit(x_train, y_train)\n",
    "y_pred = ABC.predict(x_test)"
   ]
  },
  {
   "cell_type": "code",
   "execution_count": 19,
   "id": "abcc81dc",
   "metadata": {},
   "outputs": [
    {
     "data": {
      "text/plain": [
       "0.9558498896247241"
      ]
     },
     "execution_count": 19,
     "metadata": {},
     "output_type": "execute_result"
    }
   ],
   "source": [
    "metrics.accuracy_score(y_test,y_pred)"
   ]
  },
  {
   "cell_type": "code",
   "execution_count": 23,
   "id": "7baeea56",
   "metadata": {},
   "outputs": [
    {
     "name": "stderr",
     "output_type": "stream",
     "text": [
      "c:\\users\\tejshree reddy\\appdata\\local\\programs\\python\\python39\\lib\\site-packages\\sklearn\\utils\\validation.py:63: DataConversionWarning: A column-vector y was passed when a 1d array was expected. Please change the shape of y to (n_samples, ), for example using ravel().\n",
      "  return f(*args, **kwargs)\n"
     ]
    }
   ],
   "source": [
    "from sklearn.tree import DecisionTreeClassifier\n",
    "DTC=DecisionTreeClassifier(max_depth=2)\n",
    "ABC = AdaBoostClassifier(base_estimator=DTC,n_estimators=13,learning_rate=1)\n",
    "ABC = ABC.fit(x_train, y_train)\n",
    "y_pred = ABC.predict(x_test)"
   ]
  },
  {
   "cell_type": "code",
   "execution_count": 24,
   "id": "8e80012c",
   "metadata": {},
   "outputs": [
    {
     "data": {
      "text/plain": [
       "0.9646799116997793"
      ]
     },
     "execution_count": 24,
     "metadata": {},
     "output_type": "execute_result"
    }
   ],
   "source": [
    "metrics.accuracy_score(y_test,y_pred)"
   ]
  },
  {
   "cell_type": "code",
   "execution_count": null,
   "id": "900d4b2c",
   "metadata": {},
   "outputs": [],
   "source": []
  },
  {
   "cell_type": "code",
   "execution_count": null,
   "id": "f2ad8e48",
   "metadata": {},
   "outputs": [],
   "source": []
  }
 ],
 "metadata": {
  "kernelspec": {
   "display_name": "Python 3",
   "language": "python",
   "name": "python3"
  },
  "language_info": {
   "codemirror_mode": {
    "name": "ipython",
    "version": 3
   },
   "file_extension": ".py",
   "mimetype": "text/x-python",
   "name": "python",
   "nbconvert_exporter": "python",
   "pygments_lexer": "ipython3",
   "version": "3.9.5"
  }
 },
 "nbformat": 4,
 "nbformat_minor": 5
}
