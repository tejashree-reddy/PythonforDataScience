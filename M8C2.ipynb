{
 "cells": [
  {
   "cell_type": "code",
   "execution_count": 26,
   "metadata": {},
   "outputs": [],
   "source": [
    "import pandas as pd\n",
    "import numpy as np\n",
    "import matplotlib.pyplot as plt\n",
    "%matplotlib inline"
   ]
  },
  {
   "cell_type": "code",
   "execution_count": 27,
   "metadata": {},
   "outputs": [],
   "source": [
    "from sklearn.datasets import load_digits"
   ]
  },
  {
   "cell_type": "code",
   "execution_count": 28,
   "metadata": {},
   "outputs": [],
   "source": [
    "digits_loaded = load_digits()"
   ]
  },
  {
   "cell_type": "code",
   "execution_count": 29,
   "metadata": {},
   "outputs": [],
   "source": [
    "digits=pd.DataFrame(digits_loaded.data)\n",
    "target=pd.DataFrame(digits_loaded.target)"
   ]
  },
  {
   "cell_type": "markdown",
   "metadata": {},
   "source": [
    "##### 1.We shall use the same dataset used in previous assignment -digits.Make a 80-20 train/test split."
   ]
  },
  {
   "cell_type": "code",
   "execution_count": 31,
   "metadata": {},
   "outputs": [],
   "source": [
    "X=digits\n",
    "Y=target"
   ]
  },
  {
   "cell_type": "code",
   "execution_count": 46,
   "metadata": {},
   "outputs": [],
   "source": [
    "from sklearn.model_selection import train_test_split\n",
    "trainx,testx,trainy,testy=train_test_split(X,Y,test_size=0.2,random_state=100)\n"
   ]
  },
  {
   "cell_type": "code",
   "execution_count": 47,
   "metadata": {},
   "outputs": [],
   "source": [
    "from sklearn.metrics import accuracy_score,confusion_matrix\n"
   ]
  },
  {
   "cell_type": "markdown",
   "metadata": {},
   "source": [
    "##### 2.Using scikit learn perform a LDA on the dataset. Find out the number of components in the projected subspace."
   ]
  },
  {
   "cell_type": "code",
   "execution_count": 48,
   "metadata": {},
   "outputs": [],
   "source": [
    "from sklearn.discriminant_analysis import LinearDiscriminantAnalysis as LDA"
   ]
  },
  {
   "cell_type": "code",
   "execution_count": 49,
   "metadata": {},
   "outputs": [
    {
     "data": {
      "text/plain": [
       "(360, 64)"
      ]
     },
     "execution_count": 49,
     "metadata": {},
     "output_type": "execute_result"
    }
   ],
   "source": [
    "lda=LDA()\n",
    "testx.shape"
   ]
  },
  {
   "cell_type": "code",
   "execution_count": 50,
   "metadata": {},
   "outputs": [
    {
     "name": "stderr",
     "output_type": "stream",
     "text": [
      "c:\\users\\welcome\\appdata\\local\\programs\\python\\python37-32\\lib\\site-packages\\sklearn\\utils\\validation.py:760: DataConversionWarning: A column-vector y was passed when a 1d array was expected. Please change the shape of y to (n_samples, ), for example using ravel().\n",
      "  y = column_or_1d(y, warn=True)\n"
     ]
    },
    {
     "data": {
      "text/plain": [
       "LinearDiscriminantAnalysis(n_components=None, priors=None, shrinkage=None,\n",
       "                           solver='svd', store_covariance=False, tol=0.0001)"
      ]
     },
     "execution_count": 50,
     "metadata": {},
     "output_type": "execute_result"
    }
   ],
   "source": [
    "lda.fit(trainx,trainy)"
   ]
  },
  {
   "cell_type": "code",
   "execution_count": 51,
   "metadata": {},
   "outputs": [
    {
     "data": {
      "text/plain": [
       "LinearDiscriminantAnalysis(n_components=None, priors=None, shrinkage=None,\n",
       "                           solver='svd', store_covariance=False, tol=0.0001)"
      ]
     },
     "execution_count": 51,
     "metadata": {},
     "output_type": "execute_result"
    }
   ],
   "source": [
    "lda"
   ]
  },
  {
   "cell_type": "code",
   "execution_count": 52,
   "metadata": {},
   "outputs": [],
   "source": [
    "prlda=lda.predict(testx)"
   ]
  },
  {
   "cell_type": "code",
   "execution_count": 59,
   "metadata": {},
   "outputs": [
    {
     "data": {
      "text/plain": [
       "0.9444444444444444"
      ]
     },
     "execution_count": 59,
     "metadata": {},
     "output_type": "execute_result"
    }
   ],
   "source": [
    "from sklearn.metrics import accuracy_score,confusion_matrix\n",
    "accuracy_score(prlda,testy)"
   ]
  },
  {
   "cell_type": "code",
   "execution_count": 60,
   "metadata": {},
   "outputs": [
    {
     "data": {
      "text/html": [
       "<div>\n",
       "<style scoped>\n",
       "    .dataframe tbody tr th:only-of-type {\n",
       "        vertical-align: middle;\n",
       "    }\n",
       "\n",
       "    .dataframe tbody tr th {\n",
       "        vertical-align: top;\n",
       "    }\n",
       "\n",
       "    .dataframe thead th {\n",
       "        text-align: right;\n",
       "    }\n",
       "</style>\n",
       "<table border=\"1\" class=\"dataframe\">\n",
       "  <thead>\n",
       "    <tr style=\"text-align: right;\">\n",
       "      <th></th>\n",
       "      <th>0</th>\n",
       "      <th>1</th>\n",
       "      <th>2</th>\n",
       "      <th>3</th>\n",
       "      <th>4</th>\n",
       "      <th>5</th>\n",
       "      <th>6</th>\n",
       "      <th>7</th>\n",
       "      <th>8</th>\n",
       "    </tr>\n",
       "  </thead>\n",
       "  <tbody>\n",
       "    <tr>\n",
       "      <th>0</th>\n",
       "      <td>0.364766</td>\n",
       "      <td>-2.071566</td>\n",
       "      <td>0.405411</td>\n",
       "      <td>-2.158759</td>\n",
       "      <td>-2.182373</td>\n",
       "      <td>-0.162089</td>\n",
       "      <td>0.642404</td>\n",
       "      <td>0.273698</td>\n",
       "      <td>-1.406574</td>\n",
       "    </tr>\n",
       "    <tr>\n",
       "      <th>1</th>\n",
       "      <td>2.827790</td>\n",
       "      <td>-0.095594</td>\n",
       "      <td>0.163025</td>\n",
       "      <td>-1.827973</td>\n",
       "      <td>-0.445466</td>\n",
       "      <td>-0.177318</td>\n",
       "      <td>-2.117218</td>\n",
       "      <td>-0.399425</td>\n",
       "      <td>-3.900973</td>\n",
       "    </tr>\n",
       "    <tr>\n",
       "      <th>2</th>\n",
       "      <td>-1.514894</td>\n",
       "      <td>-4.580471</td>\n",
       "      <td>2.956730</td>\n",
       "      <td>-2.177693</td>\n",
       "      <td>1.126624</td>\n",
       "      <td>-1.002126</td>\n",
       "      <td>-0.103755</td>\n",
       "      <td>0.464567</td>\n",
       "      <td>-0.083234</td>\n",
       "    </tr>\n",
       "    <tr>\n",
       "      <th>3</th>\n",
       "      <td>3.823750</td>\n",
       "      <td>0.886948</td>\n",
       "      <td>1.926211</td>\n",
       "      <td>-1.037060</td>\n",
       "      <td>1.558461</td>\n",
       "      <td>0.427366</td>\n",
       "      <td>-0.072967</td>\n",
       "      <td>0.253524</td>\n",
       "      <td>2.078565</td>\n",
       "    </tr>\n",
       "    <tr>\n",
       "      <th>4</th>\n",
       "      <td>-7.883106</td>\n",
       "      <td>1.109130</td>\n",
       "      <td>-0.869639</td>\n",
       "      <td>-2.486270</td>\n",
       "      <td>0.767232</td>\n",
       "      <td>-1.285140</td>\n",
       "      <td>-1.451812</td>\n",
       "      <td>0.882271</td>\n",
       "      <td>0.308710</td>\n",
       "    </tr>\n",
       "    <tr>\n",
       "      <th>...</th>\n",
       "      <td>...</td>\n",
       "      <td>...</td>\n",
       "      <td>...</td>\n",
       "      <td>...</td>\n",
       "      <td>...</td>\n",
       "      <td>...</td>\n",
       "      <td>...</td>\n",
       "      <td>...</td>\n",
       "      <td>...</td>\n",
       "    </tr>\n",
       "    <tr>\n",
       "      <th>355</th>\n",
       "      <td>-6.401304</td>\n",
       "      <td>0.157919</td>\n",
       "      <td>-1.912980</td>\n",
       "      <td>-0.662199</td>\n",
       "      <td>0.700609</td>\n",
       "      <td>-1.098283</td>\n",
       "      <td>-0.945270</td>\n",
       "      <td>0.586560</td>\n",
       "      <td>0.802832</td>\n",
       "    </tr>\n",
       "    <tr>\n",
       "      <th>356</th>\n",
       "      <td>1.439642</td>\n",
       "      <td>-1.158486</td>\n",
       "      <td>-3.620703</td>\n",
       "      <td>0.730052</td>\n",
       "      <td>-1.255397</td>\n",
       "      <td>0.363890</td>\n",
       "      <td>2.247296</td>\n",
       "      <td>1.064546</td>\n",
       "      <td>0.581018</td>\n",
       "    </tr>\n",
       "    <tr>\n",
       "      <th>357</th>\n",
       "      <td>-2.358474</td>\n",
       "      <td>-0.329860</td>\n",
       "      <td>2.196198</td>\n",
       "      <td>3.049970</td>\n",
       "      <td>1.149112</td>\n",
       "      <td>2.055952</td>\n",
       "      <td>-0.286608</td>\n",
       "      <td>0.687608</td>\n",
       "      <td>-0.175689</td>\n",
       "    </tr>\n",
       "    <tr>\n",
       "      <th>358</th>\n",
       "      <td>1.223262</td>\n",
       "      <td>-1.091187</td>\n",
       "      <td>-5.485049</td>\n",
       "      <td>-0.474586</td>\n",
       "      <td>2.278285</td>\n",
       "      <td>2.625370</td>\n",
       "      <td>1.079674</td>\n",
       "      <td>-1.540752</td>\n",
       "      <td>-0.560069</td>\n",
       "    </tr>\n",
       "    <tr>\n",
       "      <th>359</th>\n",
       "      <td>3.740735</td>\n",
       "      <td>-0.009504</td>\n",
       "      <td>-0.268721</td>\n",
       "      <td>0.980743</td>\n",
       "      <td>-0.566475</td>\n",
       "      <td>1.511824</td>\n",
       "      <td>-3.165114</td>\n",
       "      <td>-0.448459</td>\n",
       "      <td>0.620345</td>\n",
       "    </tr>\n",
       "  </tbody>\n",
       "</table>\n",
       "<p>360 rows × 9 columns</p>\n",
       "</div>"
      ],
      "text/plain": [
       "            0         1         2         3         4         5         6  \\\n",
       "0    0.364766 -2.071566  0.405411 -2.158759 -2.182373 -0.162089  0.642404   \n",
       "1    2.827790 -0.095594  0.163025 -1.827973 -0.445466 -0.177318 -2.117218   \n",
       "2   -1.514894 -4.580471  2.956730 -2.177693  1.126624 -1.002126 -0.103755   \n",
       "3    3.823750  0.886948  1.926211 -1.037060  1.558461  0.427366 -0.072967   \n",
       "4   -7.883106  1.109130 -0.869639 -2.486270  0.767232 -1.285140 -1.451812   \n",
       "..        ...       ...       ...       ...       ...       ...       ...   \n",
       "355 -6.401304  0.157919 -1.912980 -0.662199  0.700609 -1.098283 -0.945270   \n",
       "356  1.439642 -1.158486 -3.620703  0.730052 -1.255397  0.363890  2.247296   \n",
       "357 -2.358474 -0.329860  2.196198  3.049970  1.149112  2.055952 -0.286608   \n",
       "358  1.223262 -1.091187 -5.485049 -0.474586  2.278285  2.625370  1.079674   \n",
       "359  3.740735 -0.009504 -0.268721  0.980743 -0.566475  1.511824 -3.165114   \n",
       "\n",
       "            7         8  \n",
       "0    0.273698 -1.406574  \n",
       "1   -0.399425 -3.900973  \n",
       "2    0.464567 -0.083234  \n",
       "3    0.253524  2.078565  \n",
       "4    0.882271  0.308710  \n",
       "..        ...       ...  \n",
       "355  0.586560  0.802832  \n",
       "356  1.064546  0.581018  \n",
       "357  0.687608 -0.175689  \n",
       "358 -1.540752 -0.560069  \n",
       "359 -0.448459  0.620345  \n",
       "\n",
       "[360 rows x 9 columns]"
      ]
     },
     "execution_count": 60,
     "metadata": {},
     "output_type": "execute_result"
    }
   ],
   "source": [
    "pd.DataFrame(lda.transform(testx))"
   ]
  },
  {
   "cell_type": "markdown",
   "metadata": {},
   "source": [
    "##### 3.Transform the dataset and fit a logistic regression and observe the accuracy.\n",
    "      Compare it with the previous model based on PCA in terms of accuracy and model complexity."
   ]
  },
  {
   "cell_type": "code",
   "execution_count": 61,
   "metadata": {},
   "outputs": [],
   "source": [
    "from sklearn.linear_model import LogisticRegression"
   ]
  },
  {
   "cell_type": "raw",
   "metadata": {},
   "source": [
    "lr=LogisticRegression()"
   ]
  },
  {
   "cell_type": "code",
   "execution_count": 62,
   "metadata": {},
   "outputs": [
    {
     "name": "stderr",
     "output_type": "stream",
     "text": [
      "c:\\users\\welcome\\appdata\\local\\programs\\python\\python37-32\\lib\\site-packages\\sklearn\\utils\\validation.py:760: DataConversionWarning: A column-vector y was passed when a 1d array was expected. Please change the shape of y to (n_samples, ), for example using ravel().\n",
      "  y = column_or_1d(y, warn=True)\n",
      "c:\\users\\welcome\\appdata\\local\\programs\\python\\python37-32\\lib\\site-packages\\sklearn\\linear_model\\_logistic.py:940: ConvergenceWarning: lbfgs failed to converge (status=1):\n",
      "STOP: TOTAL NO. of ITERATIONS REACHED LIMIT.\n",
      "\n",
      "Increase the number of iterations (max_iter) or scale the data as shown in:\n",
      "    https://scikit-learn.org/stable/modules/preprocessing.html\n",
      "Please also refer to the documentation for alternative solver options:\n",
      "    https://scikit-learn.org/stable/modules/linear_model.html#logistic-regression\n",
      "  extra_warning_msg=_LOGISTIC_SOLVER_CONVERGENCE_MSG)\n"
     ]
    },
    {
     "data": {
      "text/plain": [
       "LogisticRegression(C=1.0, class_weight=None, dual=False, fit_intercept=True,\n",
       "                   intercept_scaling=1, l1_ratio=None, max_iter=100,\n",
       "                   multi_class='auto', n_jobs=None, penalty='l2',\n",
       "                   random_state=None, solver='lbfgs', tol=0.0001, verbose=0,\n",
       "                   warm_start=False)"
      ]
     },
     "execution_count": 62,
     "metadata": {},
     "output_type": "execute_result"
    }
   ],
   "source": [
    "lr.fit(trainx,trainy)"
   ]
  },
  {
   "cell_type": "code",
   "execution_count": 63,
   "metadata": {},
   "outputs": [],
   "source": [
    "predlr=lr.predict(testx)"
   ]
  },
  {
   "cell_type": "code",
   "execution_count": 45,
   "metadata": {},
   "outputs": [
    {
     "data": {
      "text/plain": [
       "0.9611111111111111"
      ]
     },
     "execution_count": 45,
     "metadata": {},
     "output_type": "execute_result"
    }
   ],
   "source": [
    "accuracy_score(predlr,testy)"
   ]
  },
  {
   "cell_type": "code",
   "execution_count": null,
   "metadata": {},
   "outputs": [],
   "source": []
  }
 ],
 "metadata": {
  "kernelspec": {
   "display_name": "Python 3",
   "language": "python",
   "name": "python3"
  },
  "language_info": {
   "codemirror_mode": {
    "name": "ipython",
    "version": 3
   },
   "file_extension": ".py",
   "mimetype": "text/x-python",
   "name": "python",
   "nbconvert_exporter": "python",
   "pygments_lexer": "ipython3",
   "version": "3.7.4"
  }
 },
 "nbformat": 4,
 "nbformat_minor": 4
}
