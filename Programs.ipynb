{
 "cells": [
  {
   "cell_type": "code",
   "execution_count": 1,
   "metadata": {},
   "outputs": [
    {
     "name": "stdout",
     "output_type": "stream",
     "text": [
      "enter a number45\n",
      "Factors of 45 = [1, 3, 5, 9, 15, 45]\n",
      "1 is odd\n",
      "3 is odd\n",
      "5 is odd\n",
      "9 is odd\n",
      "15 is odd\n",
      "45 is odd\n"
     ]
    }
   ],
   "source": [
    "# Write a program which will find factors of given number and find whether the \n",
    "# factor is even or odd.\n",
    "# Hint: Use Loop with if\n",
    "# -\n",
    "# else statements\n",
    "\n",
    "num=int(input(\"enter a number\"))\n",
    "factors=[]\n",
    "for i in range(1,num+1):\n",
    "    if num%i==0:\n",
    "       factors.append(i)\n",
    "\n",
    "print (\"Factors of {} = {}\".format(num,factors))\n",
    "\n",
    "for factor in factors:\n",
    "    if factor%2==0:\n",
    "        print(\"{} is even\".format(factor))\n",
    "    else:\n",
    "        print(\"{} is odd\".format(factor))\n",
    "        "
   ]
  },
  {
   "cell_type": "code",
   "execution_count": 3,
   "metadata": {},
   "outputs": [
    {
     "name": "stdout",
     "output_type": "stream",
     "text": [
      "Enter the sequence:feed seed reed\n",
      "feed\n",
      "reed\n",
      "seed\n"
     ]
    }
   ],
   "source": [
    "# Write a code which accepts a sequence of words as input and prints the words in a sequence after sorting them alphabetically. \n",
    "# Hint: In case of input data being supplied to the question, it should be assumed to be a console input\n",
    "\n",
    "sec=input(\"Enter the sequence:\")\n",
    "# sec.lower()\n",
    "# print(sec)\n",
    "words=sec.split()\n",
    "words.sort()\n",
    "for word in words:\n",
    "   print(word)\n",
    "    "
   ]
  },
  {
   "cell_type": "code",
   "execution_count": 4,
   "metadata": {},
   "outputs": [
    {
     "name": "stdout",
     "output_type": "stream",
     "text": [
      "2000,2002,2004,2006,2008,2020,2022,2024,2026,2028,2040,2042,2044,2046,2048,2060,2062,2064,2066,2068,2080,2082,2084,2086,2088,2200,2202,2204,2206,2208,2220,2222,2224,2226,2228,2240,2242,2244,2246,2248,2260,2262,2264,2266,2268,2280,2282,2284,2286,2288,2400,2402,2404,2406,2408,2420,2422,2424,2426,2428,2440,2442,2444,2446,2448,2460,2462,2464,2466,2468,2480,2482,2484,2486,2488,2600,2602,2604,2606,2608,2620,2622,2624,2626,2628,2640,2642,2644,2646,2648,2660,2662,2664,2666,2668,2680,2682,2684,2686,2688,2800,2802,2804,2806,2808,2820,2822,2824,2826,2828,2840,2842,2844,2846,2848,2860,2862,2864,2866,2868,2880,2882,2884,2886,2888\n"
     ]
    }
   ],
   "source": [
    "# 1Write a program, whichwill find all the numbers between 1000 and 3000 (both included) such that each digit of a number is an even number.\n",
    "# . The numbers obtained should be printed in a comma separated sequence on a single line\n",
    "numbers=[]\n",
    "for i in range(1000,3001):\n",
    "    s=str(i)\n",
    "    if (int(s[0]) %2 == 0) and (int(s[1]) %2 == 0) and (int(s[2]) %2 == 0) and (int(s[3]) %2 == 0):\n",
    "        numbers.append(s)\n",
    "print (\",\".join(numbers))"
   ]
  },
  {
   "cell_type": "code",
   "execution_count": 7,
   "metadata": {},
   "outputs": [
    {
     "name": "stdout",
     "output_type": "stream",
     "text": [
      "Enter the sentence :2018tejj1996\n",
      "The number of characters is:4\n",
      "The number of digits is:8\n"
     ]
    }
   ],
   "source": [
    "#Write a program that accepts a sentence and calculate the number of letters and digits.\n",
    "#Suppose if the entered string is: Python0325 Then the output will be:LETTERS: 6 DIGITS:4\n",
    "#Hint: Use built-in functions of string.\n",
    "\n",
    "sentence=input(\"Enter the sentence :\")\n",
    "letters=0\n",
    "digits=0\n",
    "for i in sentence:\n",
    "    if i.isdigit():\n",
    "        digits=digits+1\n",
    "    else:\n",
    "        letters=letters+1\n",
    "print(\"The number of characters is:{}\" .format(letters))\n",
    "print(\"The number of digits is:{}\" .format(digits))\n",
    "\n",
    "        "
   ]
  },
  {
   "cell_type": "code",
   "execution_count": 15,
   "metadata": {},
   "outputs": [
    {
     "name": "stdout",
     "output_type": "stream",
     "text": [
      "Enter the string:2233322\n",
      "It is a Palindrome\n"
     ]
    }
   ],
   "source": [
    "#Design a code which will find the given number is Palindrome number or not.Hint: Use built-in functions of string.\n",
    "\n",
    "string=input(\"Enter the string:\")\n",
    "reversed_string=string[: :-1]\n",
    "if string==reversed_string:\n",
    "    print(\"It is a Palindrome\")\n",
    "else:\n",
    "    print(\"It is not a Palindrome\")\n",
    "         \n",
    "        "
   ]
  },
  {
   "cell_type": "code",
   "execution_count": null,
   "metadata": {},
   "outputs": [],
   "source": []
  }
 ],
 "metadata": {
  "kernelspec": {
   "display_name": "Python 3",
   "language": "python",
   "name": "python3"
  },
  "language_info": {
   "codemirror_mode": {
    "name": "ipython",
    "version": 3
   },
   "file_extension": ".py",
   "mimetype": "text/x-python",
   "name": "python",
   "nbconvert_exporter": "python",
   "pygments_lexer": "ipython3",
   "version": "3.9.5"
  }
 },
 "nbformat": 4,
 "nbformat_minor": 2
}
