{
 "cells": [
  {
   "cell_type": "code",
   "execution_count": 8,
   "metadata": {},
   "outputs": [],
   "source": [
    "points_list = [(0,1), (1,5), (5,6), (5,4), (1,2), (2,3), (2,7)]\n"
   ]
  },
  {
   "cell_type": "code",
   "execution_count": 9,
   "metadata": {},
   "outputs": [],
   "source": [
    "mapping={0:'Start', 1:'1', 2:'2', 3:'3', 4:'4', 5:'5', 6:'6', 7:'7-Destination'} \n"
   ]
  },
  {
   "cell_type": "code",
   "execution_count": 12,
   "metadata": {},
   "outputs": [
    {
     "name": "stdout",
     "output_type": "stream",
     "text": [
      "Collecting networkx[default]\n",
      "  Downloading networkx-2.6.2-py3-none-any.whl (1.9 MB)\n",
      "Requirement already satisfied: pandas>=1.1 in c:\\users\\tejshree reddy\\appdata\\local\\programs\\python\\python39\\lib\\site-packages (from networkx[default]) (1.3.1)\n",
      "Requirement already satisfied: matplotlib>=3.3 in c:\\users\\tejshree reddy\\appdata\\local\\programs\\python\\python39\\lib\\site-packages (from networkx[default]) (3.4.2)\n",
      "Requirement already satisfied: numpy>=1.19 in c:\\users\\tejshree reddy\\appdata\\local\\programs\\python\\python39\\lib\\site-packages (from networkx[default]) (1.21.1)\n",
      "Requirement already satisfied: scipy!=1.6.1,>=1.5 in c:\\users\\tejshree reddy\\appdata\\local\\programs\\python\\python39\\lib\\site-packages (from networkx[default]) (1.7.1)\n",
      "Requirement already satisfied: kiwisolver>=1.0.1 in c:\\users\\tejshree reddy\\appdata\\local\\programs\\python\\python39\\lib\\site-packages (from matplotlib>=3.3->networkx[default]) (1.3.1)\n",
      "Requirement already satisfied: pyparsing>=2.2.1 in c:\\users\\tejshree reddy\\appdata\\local\\programs\\python\\python39\\lib\\site-packages (from matplotlib>=3.3->networkx[default]) (2.4.7)\n",
      "Requirement already satisfied: pillow>=6.2.0 in c:\\users\\tejshree reddy\\appdata\\local\\programs\\python\\python39\\lib\\site-packages (from matplotlib>=3.3->networkx[default]) (8.3.1)\n",
      "Requirement already satisfied: cycler>=0.10 in c:\\users\\tejshree reddy\\appdata\\local\\programs\\python\\python39\\lib\\site-packages (from matplotlib>=3.3->networkx[default]) (0.10.0)\n",
      "Requirement already satisfied: python-dateutil>=2.7 in c:\\users\\tejshree reddy\\appdata\\local\\programs\\python\\python39\\lib\\site-packages (from matplotlib>=3.3->networkx[default]) (2.8.1)\n",
      "Requirement already satisfied: six in c:\\users\\tejshree reddy\\appdata\\local\\programs\\python\\python39\\lib\\site-packages (from cycler>=0.10->matplotlib>=3.3->networkx[default]) (1.16.0)\n",
      "Requirement already satisfied: pytz>=2017.3 in c:\\users\\tejshree reddy\\appdata\\local\\programs\\python\\python39\\lib\\site-packages (from pandas>=1.1->networkx[default]) (2021.1)\n",
      "Installing collected packages: networkx\n",
      "Successfully installed networkx-2.6.2\n"
     ]
    },
    {
     "name": "stderr",
     "output_type": "stream",
     "text": [
      "WARNING: You are using pip version 21.2.3; however, version 21.2.4 is available.\n",
      "You should consider upgrading via the 'c:\\users\\tejshree reddy\\appdata\\local\\programs\\python\\python39\\python.exe -m pip install --upgrade pip' command.\n"
     ]
    }
   ],
   "source": [
    "!pip install networkx[default]\n"
   ]
  },
  {
   "cell_type": "code",
   "execution_count": 13,
   "metadata": {},
   "outputs": [
    {
     "data": {
      "image/png": "[encoded data removed]",
      "text/plain": [
       "<Figure size 432x288 with 1 Axes>"
      ]
     },
     "metadata": {},
     "output_type": "display_data"
    }
   ],
   "source": [
    "import numpy as np\n",
    "import networkx as nx, pylab as plt\n",
    "goal = 7\n",
    "mapping={0:'Start', 1:'1', 2:'2', 3:'3', 4:'4', 5:'5', 6:'6', 7:'7-Destination'} \n",
    "G=nx.Graph()\n",
    "G.add_edges_from(points_list)\n",
    "pos = nx.spring_layout(G,k=.5,center=points_list[2])\n",
    "nx.draw_networkx_nodes(G,pos,node_color='g')\n",
    "nx.draw_networkx_edges(G,pos,edge_color='b')\n",
    "nx.draw_networkx_labels(G,pos)\n",
    "plt.show()"
   ]
  },
  {
   "cell_type": "code",
   "execution_count": 15,
   "metadata": {},
   "outputs": [
    {
     "data": {
      "text/plain": [
       "(8, 8)"
      ]
     },
     "execution_count": 15,
     "metadata": {},
     "output_type": "execute_result"
    }
   ],
   "source": [
    "# Let's get our state and action matrix\n",
    "R = np.matrix([[-1, 0, -1, -1, -1, -1, -1, -1],\n",
    "               [0, -1, 0, -1, -1, 0, -1, -1],\n",
    "               [-1, 0, -1, 0, -1, -1, -1, 100],\n",
    "               [-1, -1, 0, -1, -1, -1, -1, -1],\n",
    "               [-1, -1, -1, -1, -1, 0, -1, -1],\n",
    "               [-1, 0, -1, -1, 0, -1, 0, -1],\n",
    "               [-1, -1, -1, -1, -1, 0, -1, -1],\n",
    "               [-1, -1, 0, -1, -1, -1, -1, 100]])\n",
    "R.shape\n"
   ]
  },
  {
   "cell_type": "code",
   "execution_count": 16,
   "metadata": {},
   "outputs": [],
   "source": [
    "Q = np.matrix(np.zeros([8,8]))\n",
    "gamma = 0.85\n",
    "initial_state = 1\n"
   ]
  },
  {
   "cell_type": "code",
   "execution_count": 17,
   "metadata": {},
   "outputs": [],
   "source": [
    "# returns available actions/destinations\n",
    "def available_actions(state):\n",
    "    current_state_row = R[state,]\n",
    "    av_act = np.where(current_state_row >= 0)[1]\n",
    "    return av_act"
   ]
  },
  {
   "cell_type": "code",
   "execution_count": 18,
   "metadata": {},
   "outputs": [],
   "source": [
    "# randomly choses an action/destination\n",
    "def sample_next_action(available_actions_range):\n",
    "    next_action = int(np.random.choice(available_act,1))\n",
    "    return next_action\n"
   ]
  },
  {
   "cell_type": "code",
   "execution_count": 19,
   "metadata": {},
   "outputs": [],
   "source": [
    "# updates Q matrix and Q learning based on path chosen\n",
    "def update(current_state, action, gamma):\n",
    "    max_index = np.where(Q[action,] == np.max(Q[action,]))[1]\n",
    "    if max_index.shape[0] > 1:\n",
    "        max_index = int(np.random.choice(max_index, size = 1))\n",
    "    else:\n",
    "        max_index = int(max_index)\n",
    "    max_value = Q[action, max_index]\n",
    "    Q[current_state, action] = R[current_state, action] + gamma*max_value"
   ]
  },
  {
   "cell_type": "code",
   "execution_count": 20,
   "metadata": {},
   "outputs": [],
   "source": [
    "# train with 20000 iterations\n",
    "for i in range(20000):\n",
    "    current_state = np.random.randint(0,int(Q.shape[0]))\n",
    "    available_act = available_actions(current_state)\n",
    "    action = sample_next_action(available_act)\n",
    "    update(current_state,action,gamma)"
   ]
  },
  {
   "cell_type": "code",
   "execution_count": 21,
   "metadata": {},
   "outputs": [
    {
     "name": "stdout",
     "output_type": "stream",
     "text": [
      "Results:\n",
      "[[  0.         481.66666667   0.           0.           0.\n",
      "    0.           0.           0.        ]\n",
      " [409.41666667   0.         566.66666667   0.           0.\n",
      "  409.41666667   0.           0.        ]\n",
      " [  0.         481.66666667   0.         481.66666667   0.\n",
      "    0.           0.         666.66666667]\n",
      " [  0.           0.         566.66666667   0.           0.\n",
      "    0.           0.           0.        ]\n",
      " [  0.           0.           0.           0.           0.\n",
      "  409.41666667   0.           0.        ]\n",
      " [  0.         481.66666667   0.           0.         348.00416667\n",
      "    0.         348.00416667   0.        ]\n",
      " [  0.           0.           0.           0.           0.\n",
      "  409.41666667   0.           0.        ]\n",
      " [  0.           0.         566.66666667   0.           0.\n",
      "    0.           0.         666.66666667]]\n",
      "Results nomalized:\n",
      "[[  0.        72.25       0.         0.         0.         0.\n",
      "    0.         0.      ]\n",
      " [ 61.4125     0.        85.         0.         0.        61.4125\n",
      "    0.         0.      ]\n",
      " [  0.        72.25       0.        72.25       0.         0.\n",
      "    0.       100.      ]\n",
      " [  0.         0.        85.         0.         0.         0.\n",
      "    0.         0.      ]\n",
      " [  0.         0.         0.         0.         0.        61.4125\n",
      "    0.         0.      ]\n",
      " [  0.        72.25       0.         0.        52.200625   0.\n",
      "   52.200625   0.      ]\n",
      " [  0.         0.         0.         0.         0.        61.4125\n",
      "    0.         0.      ]\n",
      " [  0.         0.        85.         0.         0.         0.\n",
      "    0.       100.      ]]\n"
     ]
    }
   ],
   "source": [
    "print(\"Results:\")\n",
    "print(Q)\n",
    "print(\"Results nomalized:\")\n",
    "print(Q/np.max(Q)*100) # normalized"
   ]
  },
  {
   "cell_type": "code",
   "execution_count": 22,
   "metadata": {},
   "outputs": [],
   "source": [
    "def optimal_path(current_state):\n",
    "    steps = [current_state]\n",
    "    while current_state != 7:\n",
    "        next_step_index = np.where(Q[current_state,] == np.max(Q[current_state,]))[1]\n",
    "        if next_step_index.shape[0] > 1:\n",
    "            next_step_index = int(np.random.choice(next_step_index, size=1))\n",
    "        else:\n",
    "            next_step_index = int(next_step_index)\n",
    "        steps.append(next_step_index)\n",
    "        current_state = next_step_index\n",
    "    print(\"Optimal path: \\n\", steps)"
   ]
  },
  {
   "cell_type": "code",
   "execution_count": 23,
   "metadata": {},
   "outputs": [
    {
     "name": "stdout",
     "output_type": "stream",
     "text": [
      "Optimal path: \n",
      " [0, 1, 2, 7]\n"
     ]
    }
   ],
   "source": [
    "optimal_path(0)\n"
   ]
  },
  {
   "cell_type": "code",
   "execution_count": 24,
   "metadata": {},
   "outputs": [
    {
     "name": "stdout",
     "output_type": "stream",
     "text": [
      "Optimal path: \n",
      " [3, 2, 7]\n"
     ]
    }
   ],
   "source": [
    "optimal_path(3)\n"
   ]
  },
  {
   "cell_type": "code",
   "execution_count": null,
   "metadata": {},
   "outputs": [],
   "source": []
  }
 ],
 "metadata": {
  "kernelspec": {
   "display_name": "Python 3",
   "language": "python",
   "name": "python3"
  },
  "language_info": {
   "codemirror_mode": {
    "name": "ipython",
    "version": 3
   },
   "file_extension": ".py",
   "mimetype": "text/x-python",
   "name": "python",
   "nbconvert_exporter": "python",
   "pygments_lexer": "ipython3",
   "version": "3.9.5"
  }
 },
 "nbformat": 4,
 "nbformat_minor": 2
}
