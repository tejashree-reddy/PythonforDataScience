{
 "cells": [
  {
   "cell_type": "code",
   "execution_count": 20,
   "metadata": {},
   "outputs": [
    {
     "name": "stdout",
     "output_type": "stream",
     "text": [
      "[0, 5]\n",
      "[0, 2]\n",
      "[-3, 2]\n",
      "[-1, 2]\n",
      "Distance from origin to current position  2.23606797749979\n"
     ]
    }
   ],
   "source": [
    "#1.A Robot moves in a Plane starting from the origin point (0,0). \n",
    "#The robot can move toward UP, DOWN, LEFT, RIGHT.\n",
    "#The trace of Robot movement is as given following:\n",
    "# UP 5\n",
    "# DOWN 3\n",
    "# LEFT 3\n",
    "# RIGHT 2\n",
    "# The numbers after directions are steps. \n",
    "#Write a program to compute the distance current position after sequence of movements\n",
    "\n",
    "\n",
    "import math\n",
    "from operator import add \n",
    "\n",
    "origin=[0,0]\n",
    "up= [0,5]\n",
    "down = [0,-3]\n",
    "left=[-3,0]\n",
    "right=[2, 0]\n",
    "\n",
    "\n",
    "#UP\n",
    "a = list(map(add, origin, up)) \n",
    "print(a)\n",
    "\n",
    "#DOWN\n",
    "b = list(map(add, a, down))\n",
    "print(b)\n",
    "\n",
    "#LEFT\n",
    "c = list(map(add, b, left))\n",
    "print(c)\n",
    "\n",
    "#RIGHT\n",
    "d = list(map(add, c, right))\n",
    "print(d)\n",
    "\n",
    "\n",
    "distance = math.sqrt(sum([(a - b) ** 2 for a, b in zip(origin, d)]))\n",
    "print(\"Distance from origin to current position \", distance)\n",
    "# choice=input(\"Enter the choice\")\n",
    "# if choice==\"up\":\n",
    "#     x1,y1,x2,y2= int(input(\"points:\")).split()\n",
    "#     print(x1+x2,y1+y2)\n",
    "    \n",
    "#print(distance)"
   ]
  },
  {
   "cell_type": "code",
   "execution_count": 7,
   "metadata": {},
   "outputs": [
    {
     "name": "stdout",
     "output_type": "stream",
     "text": [
      "[1, 2, 5, 7, 10, 16, 17, 32, 56, 89, 100, 120, 145]\n",
      "Enter the key: 56\n",
      "Key is present at index  8\n"
     ]
    }
   ],
   "source": [
    "#2 Data of XYZ company is stored in sorted list. Write a program for searching specific data from that list\n",
    "\n",
    "def binarySearch(arr, s, e, x): \n",
    "  \n",
    "    while s <= e: \n",
    "  \n",
    "        mid = int(s + (e - s)/2)\n",
    "           \n",
    "        if arr[mid] == x: \n",
    "            return mid \n",
    "  \n",
    "        elif arr[mid] < x: \n",
    "            s = mid + 1\n",
    "  \n",
    "        else: \n",
    "            e = mid - 1\n",
    "      \n",
    "    return -1\n",
    "data = [1,2,5,7,10,16,17,32,56,89,100,120,145]\n",
    "print(data)\n",
    "key =int(input(\"Enter the key: \"))\n",
    "result = binarySearch(data, 0, len(data)-1, key)\n",
    "if result != -1:\n",
    "    print (\"Key is present at index \" ,result)\n",
    "else:\n",
    "    print (\"Key is not present in array\")"
   ]
  },
  {
   "cell_type": "code",
   "execution_count": 17,
   "metadata": {},
   "outputs": [
    {
     "name": "stdout",
     "output_type": "stream",
     "text": [
      "time.struct_time(tm_year=2020, tm_mon=2, tm_mday=29, tm_hour=16, tm_min=38, tm_sec=20, tm_wday=5, tm_yday=60, tm_isdst=0)\n",
      "It is day\n"
     ]
    }
   ],
   "source": [
    "#3 Weather forecasting organization wants to show is it day or night. \n",
    "#So, write a program for such organization to findwhether is it dark outside or not.\n",
    "\n",
    "import time\n",
    "localtime = time.localtime()\n",
    "print(localtime)\n",
    "hour = localtime.tm_hour\n",
    "if (0 <= hour <= 6) or (19 <= hour <= 23):\n",
    "    print(\"It is night\")\n",
    "else:\n",
    "    print(\"It is day\")"
   ]
  },
  {
   "cell_type": "code",
   "execution_count": 1,
   "metadata": {},
   "outputs": [
    {
     "name": "stdout",
     "output_type": "stream",
     "text": [
      "Input coordinates of two points:\n",
      "Starting latitude: 17.387140\n",
      "Starting longitude: 78.491684\n",
      "Ending latitude: 13.006752\n",
      "Ending longitude: 77.561737\n",
      "The distance is 497.19km.\n"
     ]
    }
   ],
   "source": [
    "#4 Write a program to find distancebetween two locations when their latitude and longitudes are given\n",
    "\n",
    "from math import radians, sin, cos, acos\n",
    "\n",
    "print(\"Input coordinates of two points:\")\n",
    "slat = radians(float(input(\"Starting latitude: \")))\n",
    "slon = radians(float(input(\"Starting longitude: \")))\n",
    "elat = radians(float(input(\"Ending latitude: \")))\n",
    "elon = radians(float(input(\"Ending longitude: \")))\n",
    "\n",
    "dist = 6371.01 * acos(sin(slat)*sin(elat) + cos(slat)*cos(elat)*cos(slon - elon))\n",
    "print(\"The distance is %.2fkm.\" % dist)"
   ]
  },
  {
   "cell_type": "code",
   "execution_count": 1,
   "metadata": {},
   "outputs": [
    {
     "name": "stdout",
     "output_type": "stream",
     "text": [
      "Welcome to Internet Banking\n",
      "Enter \n",
      "1 for cash withdrawl\n",
      "2 for cash credit\n",
      "3 for password change 3\n",
      "Enter the old password:123456789\n",
      "Enter the new password:12345\n",
      "confirm the new password:12345\n",
      "Updated password is  12345\n"
     ]
    }
   ],
   "source": [
    "# 5 Design a software for bank system. \n",
    "# There should be options like cash withdraw, cash credit and change password. According to user input, the software should provide required output.\n",
    "# Hint: Use if else statements and functions\n",
    "\n",
    "class Banking:\n",
    "    \n",
    "    def Withdraw(self, actual, w):\n",
    "        return actual - w\n",
    "    \n",
    "    def Credit(self, actual, c):\n",
    "        return actual+c\n",
    "    \n",
    "    def changePass(self,p,password):\n",
    "#         Password=\"123456789\"\n",
    "#         password = input(\"Enter old Password:\")\n",
    "        if p==password:\n",
    "            new_password_first=str(input(\"Enter the new password:\"))\n",
    "            new_password_second=str(input(\"confirm the new password:\"))\n",
    "            if new_password_first==new_password_second:\n",
    "                password=new_password_second\n",
    "        return password\n",
    "    \n",
    "    \n",
    "\n",
    "print(\"Welcome to Internet Banking\")\n",
    "b = Banking()\n",
    "Amount =2000000\n",
    "password=\"123456789\"\n",
    "c=int(input(\"Enter \\n1 for cash withdrawl\\n2 for cash credit\\n3 for password change \"))\n",
    "if c==1:\n",
    "    money1=int(input(\"Enter the amount for withdrawl:\"))\n",
    "    balance1=b.Withdraw(Amount,money1)\n",
    "    print(\"Remaining balance is \", balance1)\n",
    "elif c==2:\n",
    "    money2=int(input(\"Enter the amount for cash credit:\"))\n",
    "    balance2=b.Credit(Amount,money2)\n",
    "    print(\"Remaining balance is \",balance2)\n",
    "elif c==3:\n",
    "    pass1=input(\"Enter the old password:\")\n",
    "    password=b.changePass(pass1,password)\n",
    "    print(\"Updated password is \", password)\n",
    "\n",
    "        "
   ]
  },
  {
   "cell_type": "code",
   "execution_count": 59,
   "metadata": {},
   "outputs": [
    {
     "name": "stdout",
     "output_type": "stream",
     "text": [
      "2030,2065,2100,2135,2170,2205,2240,2275,2310,2345,2380,2415,2450,2485,2520,2555,2590,2625,2660,2695,2730,2765,2800,2835,2870,2905,2940,2975,3010,3045,3080,3115,3150,3185\n"
     ]
    }
   ],
   "source": [
    "#6 Write a program which will find all such numbers which are divisible by 7 but are not a multiple of 5, between 2000 and 3200 \n",
    "#(both included). The numbers obtained should be printed in a comma-separated sequence on a single line.\n",
    "\n",
    "list1=[]\n",
    "for x in range(2000,3201):\n",
    "    if (x%7==0) and (x%5==0):\n",
    "        list1.append(str(x))\n",
    "print(','.join(list1))\n",
    "\n"
   ]
  },
  {
   "cell_type": "code",
   "execution_count": 23,
   "metadata": {},
   "outputs": [
    {
     "name": "stdout",
     "output_type": "stream",
     "text": [
      "Enter the number: 1\n",
      "The factorial of 1 is 1\n"
     ]
    }
   ],
   "source": [
    "#7 Write a program which can compute the factorial of a given numbers. Use recursion to find it. \n",
    "\n",
    "def factorial(x):\n",
    "    if x==1:\n",
    "        return 1\n",
    "    else:\n",
    "        return x*factorial(x-1)\n",
    "\n",
    "    \n",
    "    \n",
    "n=int(input(\"Enter the number: \"))\n",
    "if n<=0:\n",
    "    print(\"Enter a valid number\")\n",
    "else:\n",
    "    f=factorial(n)\n",
    "# print(f'factorial of {n} is {f}')\n",
    "    print(\"The factorial of {} is {}\". format(n,f))"
   ]
  },
  {
   "cell_type": "code",
   "execution_count": 44,
   "metadata": {},
   "outputs": [
    {
     "name": "stdout",
     "output_type": "stream",
     "text": [
      "Enter values separated with commas : 100,150,180\n",
      "When D is 100, Q is 18\n",
      "When D is 150, Q is 22\n",
      "When D is 180, Q is 24\n"
     ]
    }
   ],
   "source": [
    "#8 Write a program that calculates and prints the value according to the given formula:Q = Square root of [(2 * C * D)/H]\n",
    "# Following are the fixed values of C and H: C is 50. H is 30.D  is  the  variable  whose  values  should  be  input  to  your\n",
    "# program  in  a  comma-separated sequence.\n",
    "\n",
    "import math\n",
    "C=50\n",
    "H=30\n",
    "css=input(\"Enter values separated with commas : \")\n",
    "list1=css.split(',')\n",
    "#print(list1)\n",
    "list2 = [int(i) for i in list1]\n",
    "#print(list2)\n",
    "for D in list2:\n",
    "    Q=math.sqrt((2*C*D)/H)\n",
    "    print(\"When D is {}, Q is {}\".format(D,int(Q)))"
   ]
  },
  {
   "cell_type": "code",
   "execution_count": 1,
   "metadata": {},
   "outputs": [
    {
     "name": "stdout",
     "output_type": "stream",
     "text": [
      "X= 3\n",
      "Y= 5\n"
     ]
    },
    {
     "data": {
      "text/plain": [
       "[[0, 0, 0, 0, 0], [0, 1, 2, 3, 4], [0, 2, 4, 6, 8]]"
      ]
     },
     "execution_count": 1,
     "metadata": {},
     "output_type": "execute_result"
    }
   ],
   "source": [
    "#9 Write a program which takes 2 digits, X,Y as input and generates a 2-dimensional array. The element value in the i-th row and \n",
    "#j-th column of the array should be i*j.Note: i=0,1.., X-1; j=0,1,¡-Y-1.\n",
    "\n",
    "x=int(input(\"X= \"))\n",
    "y=int(input(\"Y= \"))\n",
    "\n",
    "res = [ [ i*j for i in range(y) ] for j in range(x) ] \n",
    "res"
   ]
  },
  {
   "cell_type": "code",
   "execution_count": 64,
   "metadata": {},
   "outputs": [
    {
     "name": "stdout",
     "output_type": "stream",
     "text": [
      "Enter the words separated by commas:without,hello,bag,world\n",
      "bag,hello,without,world\n"
     ]
    }
   ],
   "source": [
    "#10 Write a program that accepts a comma \n",
    "#separated sequence of words as input and prints the words in a comma-separated sequence after sorting them alphabetically\n",
    "\n",
    "list1= input(\"Enter the words separated by commas:\")\n",
    "list2=list1.split(',')\n",
    "#print(list2)\n",
    "list2.sort()\n",
    "#print(list2)\n",
    "print(','.join(list2))"
   ]
  },
  {
   "cell_type": "code",
   "execution_count": 73,
   "metadata": {},
   "outputs": [
    {
     "name": "stdout",
     "output_type": "stream",
     "text": [
      "Enter the lines separated by commas: Hello world,Practice makes perfect\n",
      "HELLO WORLD\n",
      "PRACTICE MAKES PERFECT\n"
     ]
    }
   ],
   "source": [
    "#11 Write a program that accepts sequence of lines as input and prints the lines after\n",
    "#making all characters in the sentence capitalized. \n",
    "\n",
    "lines=input(\"Enter the lines separated by commas: \")\n",
    "list1=lines.split(',')\n",
    "text = '\\n'.join(list1)\n",
    "print(text.upper())"
   ]
  },
  {
   "cell_type": "code",
   "execution_count": 74,
   "metadata": {},
   "outputs": [
    {
     "name": "stdout",
     "output_type": "stream",
     "text": [
      "Enter the line: Hello world\n",
      "Enter the line: Practice makes man perfect\n",
      "Enter the line: \n",
      "HELLO WORLD\n",
      "PRACTICE MAKES MAN PERFECT\n"
     ]
    }
   ],
   "source": [
    "lines = []\n",
    "while True:\n",
    "    line = input(\"Enter the line: \")\n",
    "    if line:\n",
    "        lines.append(line)\n",
    "    else:\n",
    "        break\n",
    "text = '\\n'.join(lines)\n",
    "print(text.upper())"
   ]
  },
  {
   "cell_type": "code",
   "execution_count": 2,
   "metadata": {},
   "outputs": [
    {
     "name": "stdout",
     "output_type": "stream",
     "text": [
      "Enter the words:hello world and practice makes perfect and hello world again\n",
      "again,and,hello,makes,perfect,practice,world\n"
     ]
    }
   ],
   "source": [
    "#12 Write a program that accepts a sequence of whitespace separated words as input and   prints   the   words   after   removing   all   \n",
    "#duplicate   words   and   sorting   them alphanumerically.\n",
    "\n",
    "list1= input(\"Enter the words:\")\n",
    "list2=list1.split(' ')\n",
    "set1=set(list2)\n",
    "set2=sorted(set1)\n",
    "#print(set2)\n",
    "print(','.join(set2))\n",
    "\n"
   ]
  },
  {
   "cell_type": "code",
   "execution_count": 8,
   "metadata": {},
   "outputs": [
    {
     "name": "stdout",
     "output_type": "stream",
     "text": [
      "enter the four digit binary numbers separated by coma:1000,1010,1001,0101\n",
      "10,5\n"
     ]
    }
   ],
   "source": [
    "#13 Write  a  program  which  accepts  a  sequence  of  comma  separated  4  digit  binary numbers \n",
    "#as  its  input  and  then  check  whether  they  are  divisible  by  5  or  not.  \n",
    "#The numbers that are divisible by 5 are to be printed in a comma separated sequence\n",
    "n=input(\"enter the four digit binary numbers separated by coma:\")\n",
    "l = n.split(',')\n",
    "res = []\n",
    "for binary in l:\n",
    "    d = int(binary,2) \n",
    "    if (d%5 == 0):\n",
    "        res.append(str(d))\n",
    "    \n",
    "# print(res)\n",
    "print(','.join(res))\n"
   ]
  },
  {
   "cell_type": "code",
   "execution_count": 12,
   "metadata": {},
   "outputs": [
    {
     "name": "stdout",
     "output_type": "stream",
     "text": [
      "Enter the sentence :Hello world!\n",
      "Upper case : 1\n",
      "Lower case:  9\n"
     ]
    }
   ],
   "source": [
    "#14 Write  a  program  that  accepts  a  sentence  and  calculate  the  number  of  upper  case letters and lower case letters\n",
    "\n",
    "upper=0\n",
    "lower=0\n",
    "sentence=input(\"Enter the sentence :\")\n",
    "for i in sentence:\n",
    "    if i.isupper():\n",
    "        upper=upper+1\n",
    "       \n",
    "    elif i.islower():\n",
    "        lower=lower+1\n",
    "       \n",
    "    else:\n",
    "        pass\n",
    "print(\"Upper case :\",upper)\n",
    "print(\"Lower case: \",lower)"
   ]
  },
  {
   "cell_type": "code",
   "execution_count": 15,
   "metadata": {},
   "outputs": [
    {
     "name": "stdout",
     "output_type": "stream",
     "text": [
      "147.0\n",
      "147\n"
     ]
    }
   ],
   "source": [
    "#15 Give example of fsum and sum function of math library\n",
    "\n",
    "import math\n",
    "\n",
    "list1=[1,3,4,5,6,7,2,8,99,12]\n",
    "add1= math.fsum(list1)\n",
    "print(add1)\n",
    "add2=sum(list1)\n",
    "print(add2)\n"
   ]
  },
  {
   "cell_type": "code",
   "execution_count": null,
   "metadata": {},
   "outputs": [],
   "source": []
  }
 ],
 "metadata": {
  "kernelspec": {
   "display_name": "Python 3",
   "language": "python",
   "name": "python3"
  },
  "language_info": {
   "codemirror_mode": {
    "name": "ipython",
    "version": 3
   },
   "file_extension": ".py",
   "mimetype": "text/x-python",
   "name": "python",
   "nbconvert_exporter": "python",
   "pygments_lexer": "ipython3",
   "version": "3.7.4"
  }
 },
 "nbformat": 4,
 "nbformat_minor": 2
}
