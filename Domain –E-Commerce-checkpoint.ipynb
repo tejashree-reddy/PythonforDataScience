{
 "cells": [
  {
   "cell_type": "code",
   "execution_count": 2,
   "metadata": {},
   "outputs": [],
   "source": [
    "class Customer:\n",
    "    title = \"\"\n",
    "    fname = \"\"\n",
    "    lname = \"\"\n",
    "    isblacklisted = 0;\n",
    "    name = \"\"\n",
    "    code = \"\"\n",
    "\n",
    "    def __init__(self):\n",
    "        self.title = \"\"\n",
    "\n",
    "    def __str__(self):\n",
    "        return \"Title:\" + self.title + \" First Name:\" + self.fname + \" Last Name:\" + self.lname + \" Blacklisted:\" + self.isblacklisted\n",
    "\n",
    "    def setIsblacklisted(self,isblacklisted):\n",
    "        self.isblacklisted = isblacklisted\n",
    "\n",
    "    def isblacklisted(self):\n",
    "        return self.isblacklisted\n",
    "\n",
    "    def setTitle(self,title):\n",
    "        self.title = title\n",
    "\n",
    "    def getTitle(self):\n",
    "        return self.title\n",
    "\n",
    "    def setFname(self,fname):\n",
    "        self.fname = fname\n",
    "\n",
    "    def getFname(self):\n",
    "        return self.fname\n",
    "\n",
    "    def setLname(self,lname):\n",
    "        self.lname = lname\n",
    "\n",
    "    def getLname(self):\n",
    "        return self.lname\n",
    "    \n",
    "    def createOrder(self, name, code):\n",
    "        self.name = name\n",
    "        self.code = code\n",
    "\n"
   ]
  },
  {
   "cell_type": "code",
   "execution_count": 3,
   "metadata": {},
   "outputs": [
    {
     "data": {
      "text/html": [
       "<div>\n",
       "<style scoped>\n",
       "    .dataframe tbody tr th:only-of-type {\n",
       "        vertical-align: middle;\n",
       "    }\n",
       "\n",
       "    .dataframe tbody tr th {\n",
       "        vertical-align: top;\n",
       "    }\n",
       "\n",
       "    .dataframe thead th {\n",
       "        text-align: right;\n",
       "    }\n",
       "</style>\n",
       "<table border=\"1\" class=\"dataframe\">\n",
       "  <thead>\n",
       "    <tr style=\"text-align: right;\">\n",
       "      <th></th>\n",
       "      <th>Braund</th>\n",
       "      <th>Mr. Owen Harris</th>\n",
       "      <th>1</th>\n",
       "    </tr>\n",
       "  </thead>\n",
       "  <tbody>\n",
       "    <tr>\n",
       "      <th>0</th>\n",
       "      <td>Heikkinen</td>\n",
       "      <td>Miss. Laina</td>\n",
       "      <td>0</td>\n",
       "    </tr>\n",
       "    <tr>\n",
       "      <th>1</th>\n",
       "      <td>Allen</td>\n",
       "      <td>Mr. William Henry</td>\n",
       "      <td>0</td>\n",
       "    </tr>\n",
       "    <tr>\n",
       "      <th>2</th>\n",
       "      <td>Moran</td>\n",
       "      <td>Mr. James</td>\n",
       "      <td>0</td>\n",
       "    </tr>\n",
       "    <tr>\n",
       "      <th>3</th>\n",
       "      <td>McCarthy</td>\n",
       "      <td>Mr. Timothy J</td>\n",
       "      <td>0</td>\n",
       "    </tr>\n",
       "    <tr>\n",
       "      <th>4</th>\n",
       "      <td>Bonnell</td>\n",
       "      <td>Miss. Elizabeth</td>\n",
       "      <td>0</td>\n",
       "    </tr>\n",
       "  </tbody>\n",
       "</table>\n",
       "</div>"
      ],
      "text/plain": [
       "       Braund     Mr. Owen Harris   1\n",
       "0   Heikkinen         Miss. Laina   0\n",
       "1       Allen   Mr. William Henry   0\n",
       "2       Moran           Mr. James   0\n",
       "3    McCarthy       Mr. Timothy J   0\n",
       "4     Bonnell     Miss. Elizabeth   0"
      ]
     },
     "execution_count": 3,
     "metadata": {},
     "output_type": "execute_result"
    }
   ],
   "source": [
    "import pandas as pd \n",
    "import re\n",
    "data = pd.read_csv(\"FairDealCustomerData.csv\") \n",
    "data.head(5)"
   ]
  },
  {
   "cell_type": "code",
   "execution_count": 4,
   "metadata": {},
   "outputs": [
    {
     "name": "stdout",
     "output_type": "stream",
     "text": [
      "          Brand                   Name  Eligibility\n",
      "0        Braund       Mr. Owen Harris             1\n",
      "1     Heikkinen           Miss. Laina             0\n",
      "2         Allen     Mr. William Henry             0\n",
      "3         Moran             Mr. James             0\n",
      "4      McCarthy         Mr. Timothy J             0\n",
      "..          ...                    ...          ...\n",
      "527    Banfield   Mr. Frederick James             0\n",
      "528    Sutehall          Mr. Henry Jr             0\n",
      "529    Montvila           Rev. Juozas             0\n",
      "530        Behr       Mr. Karl Howell             0\n",
      "531      Dooley           Mr. Patrick             0\n",
      "\n",
      "[532 rows x 3 columns]\n"
     ]
    }
   ],
   "source": [
    "import pandas as pd \n",
    "data = pd.read_csv(\"FairDealCustomerData.csv\",names=['Brand','Name','Eligibility'])\n",
    "df= pd.DataFrame(data)\n",
    "print(df)"
   ]
  },
  {
   "cell_type": "code",
   "execution_count": 5,
   "metadata": {},
   "outputs": [
    {
     "data": {
      "text/plain": [
       "(532, 3)"
      ]
     },
     "execution_count": 5,
     "metadata": {},
     "output_type": "execute_result"
    }
   ],
   "source": [
    "import pandas as pd \n",
    "import re\n",
    "data = pd.read_csv(\"FairDealCustomerData.csv\", names=['Brand','Name','Eligibility'])\n",
    "df = pd.DataFrame(data)\n",
    "df.head()\n",
    "df.shape"
   ]
  },
  {
   "cell_type": "code",
   "execution_count": 6,
   "metadata": {},
   "outputs": [
    {
     "data": {
      "text/plain": [
       "532"
      ]
     },
     "execution_count": 6,
     "metadata": {},
     "output_type": "execute_result"
    }
   ],
   "source": [
    "customer=[]\n",
    "for i in range(1,533):\n",
    "    customer.append(Customer())\n",
    "len(customer)"
   ]
  },
  {
   "cell_type": "code",
   "execution_count": 7,
   "metadata": {},
   "outputs": [],
   "source": [
    "index = 0\n",
    "for i in df[\"Name\"]:\n",
    "    i = str(i)\n",
    "    name_split=re.split(\" \",i)\n",
    "    customer[index].setTitle(name_split[1])\n",
    "    customer[index].setFname(name_split[2])\n",
    "    customer[index].setLname(name_split[3])\n",
    "    \n",
    "    index += 1\n",
    "    \n",
    "\n",
    "# print(index)"
   ]
  },
  {
   "cell_type": "raw",
   "metadata": {},
   "source": []
  },
  {
   "cell_type": "code",
   "execution_count": null,
   "metadata": {},
   "outputs": [],
   "source": []
  },
  {
   "cell_type": "code",
   "execution_count": 9,
   "metadata": {},
   "outputs": [
    {
     "name": "stdout",
     "output_type": "stream",
     "text": [
      "Enter the customer ID: 1\n",
      "0\n",
      "Title: Miss.\n",
      "First Name: Laina\n",
      "Last Name: \n",
      "Customer allowed\n",
      "Enter Product Name: Soap\n",
      "Enter Product Code: 100\n",
      "Order taken successfully\n"
     ]
    }
   ],
   "source": [
    "c=int(input(\"Enter the customer ID: \"))\n",
    "\n",
    "e = df.loc[c ,'Eligibility' ]\n",
    "e = int(e)\n",
    "print(e)\n",
    "\n",
    "print(\"Title:\",customer[c].getTitle())\n",
    "print(\"First Name:\",customer[c].getFname())\n",
    "print(\"Last Name:\",customer[c].getLname())\n",
    "\n",
    "customer[c].setIsblacklisted(e)\n",
    "\n",
    "if e == 1:\n",
    "    print(\"Sorry, Customer black listed\")\n",
    "else:\n",
    "    print(\"Customer allowed\")\n",
    "    productName = input(\"Enter Product Name: \")\n",
    "    productCode = input(\"Enter Product Code: \")\n",
    "    customer[c].createOrder(productName, productCode)\n",
    "    print(\"Order taken successfully\")\n"
   ]
  },
  {
   "cell_type": "code",
   "execution_count": null,
   "metadata": {},
   "outputs": [],
   "source": []
  }
 ],
 "metadata": {
  "kernelspec": {
   "display_name": "Python 3",
   "language": "python",
   "name": "python3"
  },
  "language_info": {
   "codemirror_mode": {
    "name": "ipython",
    "version": 3
   },
   "file_extension": ".py",
   "mimetype": "text/x-python",
   "name": "python",
   "nbconvert_exporter": "python",
   "pygments_lexer": "ipython3",
   "version": "3.7.4"
  }
 },
 "nbformat": 4,
 "nbformat_minor": 4
}
