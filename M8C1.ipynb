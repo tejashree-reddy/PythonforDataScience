{
 "cells": [
  {
   "cell_type": "code",
   "execution_count": 7,
   "metadata": {},
   "outputs": [],
   "source": [
    "import pandas as pd\n",
    "import numpy as np\n",
    "import matplotlib.pyplot as plt\n",
    "%matplotlib inline"
   ]
  },
  {
   "cell_type": "code",
   "execution_count": 8,
   "metadata": {},
   "outputs": [],
   "source": [
    "from sklearn.datasets import load_digits\n",
    "from sklearn import datasets\n",
    "from sklearn.datasets import load_sample_images"
   ]
  },
  {
   "cell_type": "markdown",
   "metadata": {},
   "source": [
    "##### Scikit learn comes with pre-loaded dataset, load the digits dataset from that collection and \n",
    "      write a helper function to plot the image using matplotlib.[Hint:Explore datasets module from scikit learn]"
   ]
  },
  {
   "cell_type": "code",
   "execution_count": 9,
   "metadata": {},
   "outputs": [],
   "source": [
    "digits_loaded = load_digits()\n"
   ]
  },
  {
   "cell_type": "code",
   "execution_count": 10,
   "metadata": {},
   "outputs": [],
   "source": [
    "# from matplotlib import pyplot as plt\n",
    "# fig = plt.figure(figsize=(6, 6))  \n",
    "# fig.subplots_adjust(left=0, right=1, bottom=0, top=1, hspace=0.05, wspace=0.05)\n",
    "\n",
    "# for i in range(64):\n",
    "#     ax = fig.add_subplot(8, 8, i + 1, xticks=[], yticks=[])\n",
    "#     ax.imshow(digits_loaded.images[i], cmap=plt.cm.binary, interpolation='nearest')\n",
    "#     ax.text(0, 7, str(digits_loaded.target[i]))\n"
   ]
  },
  {
   "cell_type": "code",
   "execution_count": 11,
   "metadata": {},
   "outputs": [
    {
     "data": {
      "image/png": "[encoded data removed]",
      "text/plain": [
       "<Figure size 288x288 with 1 Axes>"
      ]
     },
     "metadata": {
      "needs_background": "light"
     },
     "output_type": "display_data"
    }
   ],
   "source": [
    "plt.matshow(digits_loaded.images[9])\n",
    "plt.show()"
   ]
  },
  {
   "cell_type": "code",
   "execution_count": 12,
   "metadata": {},
   "outputs": [
    {
     "data": {
      "text/plain": [
       "(1797, 64)"
      ]
     },
     "execution_count": 12,
     "metadata": {},
     "output_type": "execute_result"
    }
   ],
   "source": [
    "digits_loaded.data.shape"
   ]
  },
  {
   "cell_type": "code",
   "execution_count": 13,
   "metadata": {},
   "outputs": [
    {
     "data": {
      "text/plain": [
       "array([[ 0.],\n",
       "       [ 0.],\n",
       "       [ 5.],\n",
       "       ...,\n",
       "       [12.],\n",
       "       [ 1.],\n",
       "       [ 0.]])"
      ]
     },
     "execution_count": 13,
     "metadata": {},
     "output_type": "execute_result"
    }
   ],
   "source": [
    "digits_loaded.data.reshape(-1,1)"
   ]
  },
  {
   "cell_type": "code",
   "execution_count": 14,
   "metadata": {},
   "outputs": [
    {
     "data": {
      "text/plain": [
       "(1797,)"
      ]
     },
     "execution_count": 14,
     "metadata": {},
     "output_type": "execute_result"
    }
   ],
   "source": [
    "digits_loaded.target.shape"
   ]
  },
  {
   "cell_type": "code",
   "execution_count": 15,
   "metadata": {},
   "outputs": [],
   "source": [
    "digits=pd.DataFrame(digits_loaded.data)\n",
    "target=pd.DataFrame(digits_loaded.target)"
   ]
  },
  {
   "cell_type": "code",
   "execution_count": 16,
   "metadata": {},
   "outputs": [
    {
     "name": "stdout",
     "output_type": "stream",
     "text": [
      "<class 'pandas.core.frame.DataFrame'>\n",
      "RangeIndex: 1797 entries, 0 to 1796\n",
      "Data columns (total 1 columns):\n",
      " #   Column  Non-Null Count  Dtype\n",
      "---  ------  --------------  -----\n",
      " 0   0       1797 non-null   int32\n",
      "dtypes: int32(1)\n",
      "memory usage: 7.1 KB\n"
     ]
    }
   ],
   "source": [
    "target.info()"
   ]
  },
  {
   "cell_type": "code",
   "execution_count": 17,
   "metadata": {},
   "outputs": [
    {
     "data": {
      "text/plain": [
       "3    183\n",
       "5    182\n",
       "1    182\n",
       "6    181\n",
       "4    181\n",
       "9    180\n",
       "7    179\n",
       "0    178\n",
       "2    177\n",
       "8    174\n",
       "Name: 0, dtype: int64"
      ]
     },
     "execution_count": 17,
     "metadata": {},
     "output_type": "execute_result"
    }
   ],
   "source": [
    "target[0].value_counts()"
   ]
  },
  {
   "cell_type": "markdown",
   "metadata": {},
   "source": [
    "##### 2.Make a train -test split with 20% of the data set aside for testing. \n",
    "     Fit a logistic regression model and observe the accuracy."
   ]
  },
  {
   "cell_type": "code",
   "execution_count": 18,
   "metadata": {},
   "outputs": [],
   "source": [
    "from sklearn.linear_model import LogisticRegression"
   ]
  },
  {
   "cell_type": "code",
   "execution_count": 19,
   "metadata": {},
   "outputs": [],
   "source": [
    "X=digits\n",
    "Y=target"
   ]
  },
  {
   "cell_type": "code",
   "execution_count": 20,
   "metadata": {},
   "outputs": [],
   "source": [
    "lr=LogisticRegression()"
   ]
  },
  {
   "cell_type": "code",
   "execution_count": 21,
   "metadata": {},
   "outputs": [],
   "source": [
    "from sklearn.model_selection import train_test_split"
   ]
  },
  {
   "cell_type": "code",
   "execution_count": 22,
   "metadata": {},
   "outputs": [],
   "source": [
    "trainx,testx,trainy,testy=train_test_split(X,Y,test_size=0.2,random_state=100)"
   ]
  },
  {
   "cell_type": "code",
   "execution_count": 23,
   "metadata": {},
   "outputs": [
    {
     "name": "stderr",
     "output_type": "stream",
     "text": [
      "c:\\users\\welcome\\appdata\\local\\programs\\python\\python37-32\\lib\\site-packages\\sklearn\\utils\\validation.py:760: DataConversionWarning: A column-vector y was passed when a 1d array was expected. Please change the shape of y to (n_samples, ), for example using ravel().\n",
      "  y = column_or_1d(y, warn=True)\n",
      "c:\\users\\welcome\\appdata\\local\\programs\\python\\python37-32\\lib\\site-packages\\sklearn\\linear_model\\_logistic.py:940: ConvergenceWarning: lbfgs failed to converge (status=1):\n",
      "STOP: TOTAL NO. of ITERATIONS REACHED LIMIT.\n",
      "\n",
      "Increase the number of iterations (max_iter) or scale the data as shown in:\n",
      "    https://scikit-learn.org/stable/modules/preprocessing.html\n",
      "Please also refer to the documentation for alternative solver options:\n",
      "    https://scikit-learn.org/stable/modules/linear_model.html#logistic-regression\n",
      "  extra_warning_msg=_LOGISTIC_SOLVER_CONVERGENCE_MSG)\n"
     ]
    },
    {
     "data": {
      "text/plain": [
       "LogisticRegression(C=1.0, class_weight=None, dual=False, fit_intercept=True,\n",
       "                   intercept_scaling=1, l1_ratio=None, max_iter=100,\n",
       "                   multi_class='auto', n_jobs=None, penalty='l2',\n",
       "                   random_state=None, solver='lbfgs', tol=0.0001, verbose=0,\n",
       "                   warm_start=False)"
      ]
     },
     "execution_count": 23,
     "metadata": {},
     "output_type": "execute_result"
    }
   ],
   "source": [
    "lr.fit(trainx,trainy)"
   ]
  },
  {
   "cell_type": "code",
   "execution_count": 24,
   "metadata": {},
   "outputs": [],
   "source": [
    "predlr=lr.predict(testx)"
   ]
  },
  {
   "cell_type": "code",
   "execution_count": 25,
   "metadata": {},
   "outputs": [
    {
     "data": {
      "text/plain": [
       "0.9611111111111111"
      ]
     },
     "execution_count": 25,
     "metadata": {},
     "output_type": "execute_result"
    }
   ],
   "source": [
    "from sklearn.metrics import accuracy_score,confusion_matrix\n",
    "accuracy_score(predlr,testy)"
   ]
  },
  {
   "cell_type": "code",
   "execution_count": 26,
   "metadata": {},
   "outputs": [
    {
     "data": {
      "text/plain": [
       "array([[42,  0,  0,  0,  0,  0,  0,  0,  0,  0],\n",
       "       [ 0, 30,  1,  0,  0,  0,  0,  0,  1,  0],\n",
       "       [ 0,  0, 41,  0,  0,  0,  0,  0,  0,  0],\n",
       "       [ 0,  0,  0, 30,  0,  0,  0,  0,  0,  2],\n",
       "       [ 0,  0,  0,  0, 34,  0,  0,  0,  1,  1],\n",
       "       [ 0,  0,  0,  0,  0, 34,  0,  0,  0,  1],\n",
       "       [ 0,  0,  0,  0,  0,  0, 39,  0,  1,  0],\n",
       "       [ 0,  0,  0,  0,  1,  0,  0, 37,  0,  1],\n",
       "       [ 0,  1,  0,  0,  0,  1,  0,  0, 25,  0],\n",
       "       [ 0,  0,  0,  1,  0,  0,  0,  1,  0, 34]], dtype=int64)"
      ]
     },
     "execution_count": 26,
     "metadata": {},
     "output_type": "execute_result"
    }
   ],
   "source": [
    "confusion_matrix(testy,predlr)"
   ]
  },
  {
   "cell_type": "markdown",
   "metadata": {},
   "source": [
    "##### 3. Using scikit learn perform a PCA transformation such that the transformed dataset can explain 95% of the variance in the original dataset.\n",
    "     Find out the number of components in the projected subspace.\n",
    "##### 4.Transform the dataset and fit a logistic regression and observe the accuracy. Compare it with the previous model andcomment on the accuracy."
   ]
  },
  {
   "cell_type": "code",
   "execution_count": 27,
   "metadata": {},
   "outputs": [],
   "source": [
    "from sklearn.preprocessing import StandardScaler \n",
    "  \n",
    "scalar = StandardScaler() \n",
    "scalar.fit(X) \n",
    "scaled_data = scalar.transform(X) \n",
    "  "
   ]
  },
  {
   "cell_type": "code",
   "execution_count": 28,
   "metadata": {},
   "outputs": [],
   "source": [
    "from sklearn.decomposition import PCA\n",
    "pca = PCA()"
   ]
  },
  {
   "cell_type": "code",
   "execution_count": 29,
   "metadata": {},
   "outputs": [
    {
     "data": {
      "text/plain": [
       "PCA(copy=True, iterated_power='auto', n_components=None, random_state=None,\n",
       "    svd_solver='auto', tol=0.0, whiten=False)"
      ]
     },
     "execution_count": 29,
     "metadata": {},
     "output_type": "execute_result"
    }
   ],
   "source": [
    "pca.fit(scaled_data)"
   ]
  },
  {
   "cell_type": "code",
   "execution_count": 30,
   "metadata": {},
   "outputs": [
    {
     "data": {
      "text/plain": [
       "array([1.14853027e+02, 1.02374513e+02, 9.62107804e+01, 8.43999988e+01,\n",
       "       7.29901087e+01, 6.79661076e+01, 6.57357810e+01, 6.09535699e+01,\n",
       "       5.73285263e+01, 5.66919151e+01, 5.52207542e+01, 5.31496988e+01,\n",
       "       4.99411577e+01, 4.94101975e+01, 4.87181644e+01, 4.58066808e+01,\n",
       "       4.41169066e+01, 4.23745489e+01, 4.18329026e+01, 4.04030531e+01,\n",
       "       3.84396124e+01, 3.73396975e+01, 3.57485095e+01, 3.40493828e+01,\n",
       "       3.26972794e+01, 3.21775889e+01, 3.07572734e+01, 3.02837051e+01,\n",
       "       2.95703806e+01, 2.86052359e+01, 2.82021522e+01, 2.75400136e+01,\n",
       "       2.67730260e+01, 2.65031620e+01, 2.54609018e+01, 2.50218124e+01,\n",
       "       2.39581918e+01, 2.29813625e+01, 2.23014224e+01, 2.15373702e+01,\n",
       "       2.10974689e+01, 2.08631842e+01, 1.97680870e+01, 1.93277180e+01,\n",
       "       1.89568789e+01, 1.84646678e+01, 1.77856004e+01, 1.74091710e+01,\n",
       "       1.68552602e+01, 1.60322561e+01, 1.54675990e+01, 1.49391305e+01,\n",
       "       1.46394964e+01, 1.41756213e+01, 1.35682641e+01, 1.32944400e+01,\n",
       "       1.27268626e+01, 1.21701581e+01, 1.17103237e+01, 1.06615266e+01,\n",
       "       9.51170303e+00, 1.88304151e-14, 8.37161114e-15, 8.30748733e-15])"
      ]
     },
     "execution_count": 30,
     "metadata": {},
     "output_type": "execute_result"
    }
   ],
   "source": [
    "pca.singular_values_"
   ]
  },
  {
   "cell_type": "code",
   "execution_count": 31,
   "metadata": {},
   "outputs": [
    {
     "data": {
      "text/plain": [
       "array([7.34477606e+00, 5.83549054e+00, 5.15396118e+00, 3.96623597e+00,\n",
       "       2.96634520e+00, 2.57204442e+00, 2.40600941e+00, 2.06867355e+00,\n",
       "       1.82993314e+00, 1.78951739e+00, 1.69784616e+00, 1.57287889e+00,\n",
       "       1.38870781e+00, 1.35933609e+00, 1.32152536e+00, 1.16829176e+00,\n",
       "       1.08368678e+00, 9.99778617e-01, 9.74382931e-01, 9.08912418e-01,\n",
       "       8.22719264e-01, 7.76310139e-01, 7.11556753e-01, 6.45523648e-01,\n",
       "       5.95273988e-01, 5.76501797e-01, 5.26731552e-01, 5.10636301e-01,\n",
       "       4.86863813e-01, 4.55601071e-01, 4.42851552e-01, 4.22300863e-01,\n",
       "       3.99106303e-01, 3.91101111e-01, 3.60945168e-01, 3.48603059e-01,\n",
       "       3.19596300e-01, 2.94066271e-01, 2.76922851e-01, 2.58273004e-01,\n",
       "       2.47830286e-01, 2.42356600e-01, 2.17581996e-01, 2.07995927e-01,\n",
       "       2.00090902e-01, 1.89835165e-01, 1.76128942e-01, 1.68752359e-01,\n",
       "       1.58184741e-01, 1.43114274e-01, 1.33210813e-01, 1.24263708e-01,\n",
       "       1.19328984e-01, 1.11886547e-01, 1.02504338e-01, 9.84087608e-02,\n",
       "       9.01854301e-02, 8.24681230e-02, 7.63539426e-02, 6.32896150e-02,\n",
       "       5.03744402e-02, 1.97430140e-31, 3.90222011e-32, 3.84266959e-32])"
      ]
     },
     "execution_count": 31,
     "metadata": {},
     "output_type": "execute_result"
    }
   ],
   "source": [
    "pca.explained_variance_"
   ]
  },
  {
   "cell_type": "code",
   "execution_count": 32,
   "metadata": {},
   "outputs": [
    {
     "data": {
      "text/plain": [
       "[<matplotlib.lines.Line2D at 0xd0e1330>]"
      ]
     },
     "execution_count": 32,
     "metadata": {},
     "output_type": "execute_result"
    },
    {
     "data": {
      "image/png": "[encoded data removed]",
      "text/plain": [
       "<Figure size 432x288 with 1 Axes>"
      ]
     },
     "metadata": {
      "needs_background": "light"
     },
     "output_type": "display_data"
    }
   ],
   "source": [
    "plt.plot(pca.explained_variance_)"
   ]
  },
  {
   "cell_type": "code",
   "execution_count": 33,
   "metadata": {},
   "outputs": [
    {
     "data": {
      "text/plain": [
       "array([1.20339161e-01, 9.56105440e-02, 8.44441489e-02, 6.49840791e-02,\n",
       "       4.86015488e-02, 4.21411987e-02, 3.94208280e-02, 3.38938092e-02,\n",
       "       2.99822101e-02, 2.93200255e-02, 2.78180546e-02, 2.57705509e-02,\n",
       "       2.27530332e-02, 2.22717974e-02, 2.16522943e-02, 1.91416661e-02,\n",
       "       1.77554709e-02, 1.63806927e-02, 1.59646017e-02, 1.48919119e-02,\n",
       "       1.34796957e-02, 1.27193137e-02, 1.16583735e-02, 1.05764660e-02,\n",
       "       9.75315947e-03, 9.44558990e-03, 8.63013827e-03, 8.36642854e-03,\n",
       "       7.97693248e-03, 7.46471371e-03, 7.25582151e-03, 6.91911245e-03,\n",
       "       6.53908536e-03, 6.40792574e-03, 5.91384112e-03, 5.71162405e-03,\n",
       "       5.23636803e-03, 4.81807586e-03, 4.53719260e-03, 4.23162753e-03,\n",
       "       4.06053070e-03, 3.97084808e-03, 3.56493303e-03, 3.40787181e-03,\n",
       "       3.27835335e-03, 3.11032007e-03, 2.88575294e-03, 2.76489264e-03,\n",
       "       2.59174941e-03, 2.34483006e-03, 2.18256858e-03, 2.03597635e-03,\n",
       "       1.95512426e-03, 1.83318499e-03, 1.67946387e-03, 1.61236062e-03,\n",
       "       1.47762694e-03, 1.35118411e-03, 1.25100742e-03, 1.03695730e-03,\n",
       "       8.25350945e-04, 3.23475858e-33, 6.39352227e-34, 6.29595280e-34])"
      ]
     },
     "execution_count": 33,
     "metadata": {},
     "output_type": "execute_result"
    }
   ],
   "source": [
    "pca.explained_variance_ratio_"
   ]
  },
  {
   "cell_type": "code",
   "execution_count": 34,
   "metadata": {},
   "outputs": [
    {
     "data": {
      "text/plain": [
       "[<matplotlib.lines.Line2D at 0xe4c7c30>]"
      ]
     },
     "execution_count": 34,
     "metadata": {},
     "output_type": "execute_result"
    },
    {
     "data": {
      "image/png": "[encoded data removed]",
      "text/plain": [
       "<Figure size 432x288 with 1 Axes>"
      ]
     },
     "metadata": {
      "needs_background": "light"
     },
     "output_type": "display_data"
    }
   ],
   "source": [
    "plt.plot(pca.explained_variance_ratio_*100)"
   ]
  },
  {
   "cell_type": "code",
   "execution_count": 35,
   "metadata": {},
   "outputs": [],
   "source": [
    "transformed=pd.DataFrame(pca.fit_transform(scaled_data))"
   ]
  },
  {
   "cell_type": "code",
   "execution_count": 36,
   "metadata": {},
   "outputs": [
    {
     "data": {
      "text/plain": [
       "(1797, 64)"
      ]
     },
     "execution_count": 36,
     "metadata": {},
     "output_type": "execute_result"
    }
   ],
   "source": [
    "transformed.shape"
   ]
  },
  {
   "cell_type": "code",
   "execution_count": 37,
   "metadata": {},
   "outputs": [],
   "source": [
    "pca1 = PCA(20)"
   ]
  },
  {
   "cell_type": "code",
   "execution_count": 38,
   "metadata": {},
   "outputs": [],
   "source": [
    "# scaled_data=scaled_data.reshape(-1,1)"
   ]
  },
  {
   "cell_type": "code",
   "execution_count": 39,
   "metadata": {},
   "outputs": [],
   "source": [
    "pca1.fit(scaled_data)\n",
    "transformed1=pca1.transform(scaled_data)\n",
    "A=pd.DataFrame(transformed1)"
   ]
  },
  {
   "cell_type": "code",
   "execution_count": 40,
   "metadata": {},
   "outputs": [
    {
     "data": {
      "text/plain": [
       "array([12.0339161 ,  9.5610544 ,  8.44441489,  6.4984079 ,  4.86015483,\n",
       "        4.21411968,  3.94208219,  3.38937934,  2.99821963,  2.93200121,\n",
       "        2.78179841,  2.57704881,  2.27525584,  2.22717506,  2.16519086,\n",
       "        1.91405925,  1.7752808 ,  1.63782881,  1.59582455,  1.48898272])"
      ]
     },
     "execution_count": 40,
     "metadata": {},
     "output_type": "execute_result"
    }
   ],
   "source": [
    "pca1.explained_variance_ratio_*100"
   ]
  },
  {
   "cell_type": "code",
   "execution_count": 41,
   "metadata": {},
   "outputs": [
    {
     "data": {
      "text/plain": [
       "[<matplotlib.lines.Line2D at 0xe4e6b90>]"
      ]
     },
     "execution_count": 41,
     "metadata": {},
     "output_type": "execute_result"
    },
    {
     "data": {
      "image/png": "[encoded data removed]",
      "text/plain": [
       "<Figure size 432x288 with 1 Axes>"
      ]
     },
     "metadata": {
      "needs_background": "light"
     },
     "output_type": "display_data"
    }
   ],
   "source": [
    "plt.plot(pca1.explained_variance_ratio_*100)"
   ]
  },
  {
   "cell_type": "code",
   "execution_count": 42,
   "metadata": {},
   "outputs": [],
   "source": [
    "# pca1.explained_variance_[1]"
   ]
  },
  {
   "cell_type": "code",
   "execution_count": 43,
   "metadata": {},
   "outputs": [
    {
     "data": {
      "text/plain": [
       "array([7.34477606, 5.83549054, 5.15396118, 3.96623596, 2.96634517,\n",
       "       2.5720443 , 2.40600904, 2.06867258, 1.8299323 , 1.78951657,\n",
       "       1.69784185, 1.57287505, 1.38867884, 1.35933323, 1.32150182,\n",
       "       1.16822624, 1.08352425, 0.99963185, 0.97399499, 0.90878518])"
      ]
     },
     "execution_count": 43,
     "metadata": {},
     "output_type": "execute_result"
    }
   ],
   "source": [
    "pca1.explained_variance_"
   ]
  },
  {
   "cell_type": "code",
   "execution_count": 44,
   "metadata": {},
   "outputs": [
    {
     "data": {
      "text/plain": [
       "array([0.12033916, 0.21594971, 0.30039385, 0.36537793, 0.41397948,\n",
       "       0.45612068, 0.49554151, 0.52943532, 0.55941753, 0.58873755,\n",
       "       0.61655561, 0.64232616, 0.66507919, 0.68735099, 0.70900328,\n",
       "       0.72814495, 0.74590042, 0.76228111, 0.77824572, 0.79313763,\n",
       "       0.80661732, 0.81933664, 0.83099501, 0.84157148, 0.85132464,\n",
       "       0.86077023, 0.86940036, 0.87776679, 0.88574372, 0.89320844,\n",
       "       0.90046426, 0.90738337, 0.91392246, 0.92033038, 0.92624422,\n",
       "       0.93195585, 0.93719222, 0.94201029, 0.94654748, 0.95077911,\n",
       "       0.95483964, 0.95881049, 0.96237542, 0.9657833 , 0.96906165,\n",
       "       0.97217197, 0.97505772, 0.97782262, 0.98041436, 0.98275919,\n",
       "       0.98494176, 0.98697774, 0.98893286, 0.99076605, 0.99244551,\n",
       "       0.99405787, 0.9955355 , 0.99688668, 0.99813769, 0.99917465,\n",
       "       1.        , 1.        , 1.        , 1.        ])"
      ]
     },
     "execution_count": 44,
     "metadata": {},
     "output_type": "execute_result"
    }
   ],
   "source": [
    "pca.explained_variance_ratio_.cumsum()"
   ]
  },
  {
   "cell_type": "code",
   "execution_count": 45,
   "metadata": {},
   "outputs": [
    {
     "data": {
      "text/html": [
       "<div>\n",
       "<style scoped>\n",
       "    .dataframe tbody tr th:only-of-type {\n",
       "        vertical-align: middle;\n",
       "    }\n",
       "\n",
       "    .dataframe tbody tr th {\n",
       "        vertical-align: top;\n",
       "    }\n",
       "\n",
       "    .dataframe thead th {\n",
       "        text-align: right;\n",
       "    }\n",
       "</style>\n",
       "<table border=\"1\" class=\"dataframe\">\n",
       "  <thead>\n",
       "    <tr style=\"text-align: right;\">\n",
       "      <th></th>\n",
       "      <th>0</th>\n",
       "      <th>1</th>\n",
       "      <th>2</th>\n",
       "      <th>3</th>\n",
       "      <th>4</th>\n",
       "      <th>5</th>\n",
       "      <th>6</th>\n",
       "      <th>7</th>\n",
       "      <th>8</th>\n",
       "      <th>9</th>\n",
       "      <th>10</th>\n",
       "      <th>11</th>\n",
       "      <th>12</th>\n",
       "      <th>13</th>\n",
       "      <th>14</th>\n",
       "      <th>15</th>\n",
       "      <th>16</th>\n",
       "      <th>17</th>\n",
       "      <th>18</th>\n",
       "      <th>19</th>\n",
       "    </tr>\n",
       "  </thead>\n",
       "  <tbody>\n",
       "    <tr>\n",
       "      <th>0</th>\n",
       "      <td>1.914214</td>\n",
       "      <td>-0.954502</td>\n",
       "      <td>-3.946035</td>\n",
       "      <td>2.028723</td>\n",
       "      <td>-0.267170</td>\n",
       "      <td>0.530354</td>\n",
       "      <td>-1.415284</td>\n",
       "      <td>1.496073</td>\n",
       "      <td>0.124836</td>\n",
       "      <td>-0.822226</td>\n",
       "      <td>-0.499587</td>\n",
       "      <td>-0.789366</td>\n",
       "      <td>0.226884</td>\n",
       "      <td>-0.194988</td>\n",
       "      <td>0.836381</td>\n",
       "      <td>0.101512</td>\n",
       "      <td>0.184244</td>\n",
       "      <td>-0.091504</td>\n",
       "      <td>0.406606</td>\n",
       "      <td>0.433387</td>\n",
       "    </tr>\n",
       "    <tr>\n",
       "      <th>1</th>\n",
       "      <td>0.588979</td>\n",
       "      <td>0.924635</td>\n",
       "      <td>3.924755</td>\n",
       "      <td>-1.779853</td>\n",
       "      <td>-0.993496</td>\n",
       "      <td>-0.675690</td>\n",
       "      <td>1.878538</td>\n",
       "      <td>0.556565</td>\n",
       "      <td>1.079622</td>\n",
       "      <td>0.087407</td>\n",
       "      <td>-0.505532</td>\n",
       "      <td>0.641199</td>\n",
       "      <td>-0.046668</td>\n",
       "      <td>-0.393278</td>\n",
       "      <td>-0.740534</td>\n",
       "      <td>-0.208911</td>\n",
       "      <td>-0.089047</td>\n",
       "      <td>-0.425445</td>\n",
       "      <td>0.580859</td>\n",
       "      <td>-0.074592</td>\n",
       "    </tr>\n",
       "    <tr>\n",
       "      <th>2</th>\n",
       "      <td>1.302040</td>\n",
       "      <td>-0.317188</td>\n",
       "      <td>3.023331</td>\n",
       "      <td>-2.043373</td>\n",
       "      <td>-2.081110</td>\n",
       "      <td>0.935131</td>\n",
       "      <td>-1.296001</td>\n",
       "      <td>1.155997</td>\n",
       "      <td>0.786158</td>\n",
       "      <td>-1.099109</td>\n",
       "      <td>2.197742</td>\n",
       "      <td>-2.311033</td>\n",
       "      <td>-0.570462</td>\n",
       "      <td>-0.995854</td>\n",
       "      <td>-1.171374</td>\n",
       "      <td>0.391835</td>\n",
       "      <td>-0.253505</td>\n",
       "      <td>-0.463209</td>\n",
       "      <td>-1.094303</td>\n",
       "      <td>-1.140821</td>\n",
       "    </tr>\n",
       "    <tr>\n",
       "      <th>3</th>\n",
       "      <td>-3.020771</td>\n",
       "      <td>-0.868773</td>\n",
       "      <td>-0.801744</td>\n",
       "      <td>-2.187047</td>\n",
       "      <td>-0.556811</td>\n",
       "      <td>0.727058</td>\n",
       "      <td>0.959782</td>\n",
       "      <td>-1.382427</td>\n",
       "      <td>0.259087</td>\n",
       "      <td>0.744701</td>\n",
       "      <td>-1.065767</td>\n",
       "      <td>0.492098</td>\n",
       "      <td>-0.166463</td>\n",
       "      <td>1.008869</td>\n",
       "      <td>-0.144202</td>\n",
       "      <td>-0.998317</td>\n",
       "      <td>-0.949576</td>\n",
       "      <td>-0.399263</td>\n",
       "      <td>1.493932</td>\n",
       "      <td>0.314545</td>\n",
       "    </tr>\n",
       "    <tr>\n",
       "      <th>4</th>\n",
       "      <td>4.528950</td>\n",
       "      <td>-1.093478</td>\n",
       "      <td>0.973122</td>\n",
       "      <td>-1.419493</td>\n",
       "      <td>-1.715083</td>\n",
       "      <td>1.431666</td>\n",
       "      <td>1.073553</td>\n",
       "      <td>-0.968580</td>\n",
       "      <td>-1.660391</td>\n",
       "      <td>1.174133</td>\n",
       "      <td>-1.016655</td>\n",
       "      <td>-1.365830</td>\n",
       "      <td>-0.342300</td>\n",
       "      <td>-0.112774</td>\n",
       "      <td>0.734633</td>\n",
       "      <td>0.209057</td>\n",
       "      <td>-0.106936</td>\n",
       "      <td>-0.568714</td>\n",
       "      <td>1.598280</td>\n",
       "      <td>1.080826</td>\n",
       "    </tr>\n",
       "    <tr>\n",
       "      <th>...</th>\n",
       "      <td>...</td>\n",
       "      <td>...</td>\n",
       "      <td>...</td>\n",
       "      <td>...</td>\n",
       "      <td>...</td>\n",
       "      <td>...</td>\n",
       "      <td>...</td>\n",
       "      <td>...</td>\n",
       "      <td>...</td>\n",
       "      <td>...</td>\n",
       "      <td>...</td>\n",
       "      <td>...</td>\n",
       "      <td>...</td>\n",
       "      <td>...</td>\n",
       "      <td>...</td>\n",
       "      <td>...</td>\n",
       "      <td>...</td>\n",
       "      <td>...</td>\n",
       "      <td>...</td>\n",
       "      <td>...</td>\n",
       "    </tr>\n",
       "    <tr>\n",
       "      <th>1792</th>\n",
       "      <td>0.104331</td>\n",
       "      <td>0.255026</td>\n",
       "      <td>-3.765860</td>\n",
       "      <td>-1.946993</td>\n",
       "      <td>-0.190083</td>\n",
       "      <td>-0.555665</td>\n",
       "      <td>0.531203</td>\n",
       "      <td>0.476199</td>\n",
       "      <td>1.152304</td>\n",
       "      <td>-0.473260</td>\n",
       "      <td>-0.635033</td>\n",
       "      <td>0.803617</td>\n",
       "      <td>1.205727</td>\n",
       "      <td>-0.700546</td>\n",
       "      <td>0.189745</td>\n",
       "      <td>0.158470</td>\n",
       "      <td>0.499336</td>\n",
       "      <td>0.352984</td>\n",
       "      <td>-0.970804</td>\n",
       "      <td>0.809699</td>\n",
       "    </tr>\n",
       "    <tr>\n",
       "      <th>1793</th>\n",
       "      <td>2.423234</td>\n",
       "      <td>-1.429610</td>\n",
       "      <td>-3.045245</td>\n",
       "      <td>2.632090</td>\n",
       "      <td>-0.822907</td>\n",
       "      <td>0.004056</td>\n",
       "      <td>-1.106921</td>\n",
       "      <td>2.330873</td>\n",
       "      <td>0.569467</td>\n",
       "      <td>-1.654190</td>\n",
       "      <td>-0.460196</td>\n",
       "      <td>-0.530586</td>\n",
       "      <td>0.859463</td>\n",
       "      <td>0.885070</td>\n",
       "      <td>-0.701487</td>\n",
       "      <td>1.100697</td>\n",
       "      <td>0.305178</td>\n",
       "      <td>-0.312103</td>\n",
       "      <td>-0.303419</td>\n",
       "      <td>0.105034</td>\n",
       "    </tr>\n",
       "    <tr>\n",
       "      <th>1794</th>\n",
       "      <td>1.022597</td>\n",
       "      <td>-0.147910</td>\n",
       "      <td>2.469975</td>\n",
       "      <td>-0.620298</td>\n",
       "      <td>-0.972019</td>\n",
       "      <td>-0.007317</td>\n",
       "      <td>0.381091</td>\n",
       "      <td>0.528860</td>\n",
       "      <td>2.054738</td>\n",
       "      <td>-2.036920</td>\n",
       "      <td>-0.679289</td>\n",
       "      <td>0.397375</td>\n",
       "      <td>-0.409275</td>\n",
       "      <td>0.258497</td>\n",
       "      <td>0.335545</td>\n",
       "      <td>1.161479</td>\n",
       "      <td>1.124374</td>\n",
       "      <td>0.678961</td>\n",
       "      <td>-1.614688</td>\n",
       "      <td>0.192007</td>\n",
       "    </tr>\n",
       "    <tr>\n",
       "      <th>1795</th>\n",
       "      <td>1.076055</td>\n",
       "      <td>-0.380907</td>\n",
       "      <td>-2.455489</td>\n",
       "      <td>-1.312016</td>\n",
       "      <td>0.253502</td>\n",
       "      <td>-0.638343</td>\n",
       "      <td>1.034599</td>\n",
       "      <td>0.763553</td>\n",
       "      <td>1.077441</td>\n",
       "      <td>-0.334478</td>\n",
       "      <td>-0.979892</td>\n",
       "      <td>0.605536</td>\n",
       "      <td>0.168079</td>\n",
       "      <td>-0.760323</td>\n",
       "      <td>0.016512</td>\n",
       "      <td>0.156229</td>\n",
       "      <td>1.692924</td>\n",
       "      <td>0.817666</td>\n",
       "      <td>-1.753802</td>\n",
       "      <td>0.765968</td>\n",
       "    </tr>\n",
       "    <tr>\n",
       "      <th>1796</th>\n",
       "      <td>-1.257702</td>\n",
       "      <td>-2.227592</td>\n",
       "      <td>0.283625</td>\n",
       "      <td>-0.127077</td>\n",
       "      <td>-1.570161</td>\n",
       "      <td>2.342891</td>\n",
       "      <td>-0.382891</td>\n",
       "      <td>-1.200473</td>\n",
       "      <td>0.817239</td>\n",
       "      <td>-1.825460</td>\n",
       "      <td>-0.084894</td>\n",
       "      <td>0.548525</td>\n",
       "      <td>0.096727</td>\n",
       "      <td>0.757711</td>\n",
       "      <td>1.825504</td>\n",
       "      <td>0.244491</td>\n",
       "      <td>0.638607</td>\n",
       "      <td>1.954225</td>\n",
       "      <td>-2.438457</td>\n",
       "      <td>-1.140264</td>\n",
       "    </tr>\n",
       "  </tbody>\n",
       "</table>\n",
       "<p>1797 rows × 20 columns</p>\n",
       "</div>"
      ],
      "text/plain": [
       "             0         1         2         3         4         5         6  \\\n",
       "0     1.914214 -0.954502 -3.946035  2.028723 -0.267170  0.530354 -1.415284   \n",
       "1     0.588979  0.924635  3.924755 -1.779853 -0.993496 -0.675690  1.878538   \n",
       "2     1.302040 -0.317188  3.023331 -2.043373 -2.081110  0.935131 -1.296001   \n",
       "3    -3.020771 -0.868773 -0.801744 -2.187047 -0.556811  0.727058  0.959782   \n",
       "4     4.528950 -1.093478  0.973122 -1.419493 -1.715083  1.431666  1.073553   \n",
       "...        ...       ...       ...       ...       ...       ...       ...   \n",
       "1792  0.104331  0.255026 -3.765860 -1.946993 -0.190083 -0.555665  0.531203   \n",
       "1793  2.423234 -1.429610 -3.045245  2.632090 -0.822907  0.004056 -1.106921   \n",
       "1794  1.022597 -0.147910  2.469975 -0.620298 -0.972019 -0.007317  0.381091   \n",
       "1795  1.076055 -0.380907 -2.455489 -1.312016  0.253502 -0.638343  1.034599   \n",
       "1796 -1.257702 -2.227592  0.283625 -0.127077 -1.570161  2.342891 -0.382891   \n",
       "\n",
       "             7         8         9        10        11        12        13  \\\n",
       "0     1.496073  0.124836 -0.822226 -0.499587 -0.789366  0.226884 -0.194988   \n",
       "1     0.556565  1.079622  0.087407 -0.505532  0.641199 -0.046668 -0.393278   \n",
       "2     1.155997  0.786158 -1.099109  2.197742 -2.311033 -0.570462 -0.995854   \n",
       "3    -1.382427  0.259087  0.744701 -1.065767  0.492098 -0.166463  1.008869   \n",
       "4    -0.968580 -1.660391  1.174133 -1.016655 -1.365830 -0.342300 -0.112774   \n",
       "...        ...       ...       ...       ...       ...       ...       ...   \n",
       "1792  0.476199  1.152304 -0.473260 -0.635033  0.803617  1.205727 -0.700546   \n",
       "1793  2.330873  0.569467 -1.654190 -0.460196 -0.530586  0.859463  0.885070   \n",
       "1794  0.528860  2.054738 -2.036920 -0.679289  0.397375 -0.409275  0.258497   \n",
       "1795  0.763553  1.077441 -0.334478 -0.979892  0.605536  0.168079 -0.760323   \n",
       "1796 -1.200473  0.817239 -1.825460 -0.084894  0.548525  0.096727  0.757711   \n",
       "\n",
       "            14        15        16        17        18        19  \n",
       "0     0.836381  0.101512  0.184244 -0.091504  0.406606  0.433387  \n",
       "1    -0.740534 -0.208911 -0.089047 -0.425445  0.580859 -0.074592  \n",
       "2    -1.171374  0.391835 -0.253505 -0.463209 -1.094303 -1.140821  \n",
       "3    -0.144202 -0.998317 -0.949576 -0.399263  1.493932  0.314545  \n",
       "4     0.734633  0.209057 -0.106936 -0.568714  1.598280  1.080826  \n",
       "...        ...       ...       ...       ...       ...       ...  \n",
       "1792  0.189745  0.158470  0.499336  0.352984 -0.970804  0.809699  \n",
       "1793 -0.701487  1.100697  0.305178 -0.312103 -0.303419  0.105034  \n",
       "1794  0.335545  1.161479  1.124374  0.678961 -1.614688  0.192007  \n",
       "1795  0.016512  0.156229  1.692924  0.817666 -1.753802  0.765968  \n",
       "1796  1.825504  0.244491  0.638607  1.954225 -2.438457 -1.140264  \n",
       "\n",
       "[1797 rows x 20 columns]"
      ]
     },
     "execution_count": 45,
     "metadata": {},
     "output_type": "execute_result"
    }
   ],
   "source": [
    "X1=A\n",
    "X1"
   ]
  },
  {
   "cell_type": "code",
   "execution_count": 46,
   "metadata": {},
   "outputs": [],
   "source": [
    "trainx1,testx1,trainy,testy=train_test_split(X1,Y,test_size=0.2,random_state=100)"
   ]
  },
  {
   "cell_type": "code",
   "execution_count": 47,
   "metadata": {},
   "outputs": [
    {
     "name": "stderr",
     "output_type": "stream",
     "text": [
      "c:\\users\\welcome\\appdata\\local\\programs\\python\\python37-32\\lib\\site-packages\\sklearn\\utils\\validation.py:760: DataConversionWarning: A column-vector y was passed when a 1d array was expected. Please change the shape of y to (n_samples, ), for example using ravel().\n",
      "  y = column_or_1d(y, warn=True)\n",
      "c:\\users\\welcome\\appdata\\local\\programs\\python\\python37-32\\lib\\site-packages\\sklearn\\linear_model\\_logistic.py:940: ConvergenceWarning: lbfgs failed to converge (status=1):\n",
      "STOP: TOTAL NO. of ITERATIONS REACHED LIMIT.\n",
      "\n",
      "Increase the number of iterations (max_iter) or scale the data as shown in:\n",
      "    https://scikit-learn.org/stable/modules/preprocessing.html\n",
      "Please also refer to the documentation for alternative solver options:\n",
      "    https://scikit-learn.org/stable/modules/linear_model.html#logistic-regression\n",
      "  extra_warning_msg=_LOGISTIC_SOLVER_CONVERGENCE_MSG)\n"
     ]
    },
    {
     "data": {
      "text/plain": [
       "LogisticRegression(C=1.0, class_weight=None, dual=False, fit_intercept=True,\n",
       "                   intercept_scaling=1, l1_ratio=None, max_iter=100,\n",
       "                   multi_class='auto', n_jobs=None, penalty='l2',\n",
       "                   random_state=None, solver='lbfgs', tol=0.0001, verbose=0,\n",
       "                   warm_start=False)"
      ]
     },
     "execution_count": 47,
     "metadata": {},
     "output_type": "execute_result"
    }
   ],
   "source": [
    "lr.fit(trainx1,trainy)"
   ]
  },
  {
   "cell_type": "code",
   "execution_count": 48,
   "metadata": {},
   "outputs": [],
   "source": [
    "predlr1=lr.predict(testx1)"
   ]
  },
  {
   "cell_type": "markdown",
   "metadata": {},
   "source": [
    "##### 5.Compute the confusion matrix and count the number of instances that has gone wrong. \n",
    "     For each of the wrong sample,plot the digit along with predicted and original label"
   ]
  },
  {
   "cell_type": "code",
   "execution_count": 49,
   "metadata": {},
   "outputs": [
    {
     "data": {
      "text/plain": [
       "0.9583333333333334"
      ]
     },
     "execution_count": 49,
     "metadata": {},
     "output_type": "execute_result"
    }
   ],
   "source": [
    "from sklearn.metrics import accuracy_score,confusion_matrix\n",
    "accuracy_score(predlr1,testy)"
   ]
  },
  {
   "cell_type": "code",
   "execution_count": 50,
   "metadata": {},
   "outputs": [
    {
     "data": {
      "text/plain": [
       "array([[41,  0,  1,  0,  0,  0,  0,  0,  0,  0],\n",
       "       [ 0, 31,  0,  0,  0,  0,  0,  0,  1,  0],\n",
       "       [ 0,  0, 41,  0,  0,  0,  0,  0,  0,  0],\n",
       "       [ 0,  0,  0, 31,  0,  0,  0,  0,  1,  0],\n",
       "       [ 0,  0,  0,  0, 33,  0,  1,  0,  0,  2],\n",
       "       [ 0,  0,  0,  0,  0, 35,  0,  0,  0,  0],\n",
       "       [ 0,  0,  0,  0,  0,  0, 39,  0,  1,  0],\n",
       "       [ 0,  0,  1,  0,  0,  0,  0, 38,  0,  0],\n",
       "       [ 0,  1,  0,  0,  0,  1,  1,  0, 24,  0],\n",
       "       [ 0,  2,  0,  2,  0,  0,  0,  0,  0, 32]], dtype=int64)"
      ]
     },
     "execution_count": 50,
     "metadata": {},
     "output_type": "execute_result"
    }
   ],
   "source": [
    "cm=confusion_matrix(testy,predlr1)\n",
    "cm\n",
    "# cm.ravel()"
   ]
  },
  {
   "cell_type": "code",
   "execution_count": 51,
   "metadata": {},
   "outputs": [],
   "source": [
    "# cm=confusion_matrix(testy,predlr1,labels=target[0].unique())\n",
    "# cm"
   ]
  },
  {
   "cell_type": "code",
   "execution_count": 52,
   "metadata": {},
   "outputs": [
    {
     "data": {
      "image/png": "[encoded data removed]",
      "text/plain": [
       "<Figure size 432x288 with 2 Axes>"
      ]
     },
     "metadata": {
      "needs_background": "light"
     },
     "output_type": "display_data"
    }
   ],
   "source": [
    "fig = plt.figure()\n",
    "ax = fig.add_subplot(111)\n",
    "cax = ax.matshow(cm)\n",
    "plt.title('Confusion matrix of the classifier')\n",
    "fig.colorbar(cax)\n",
    "# ax.set_xticklabels([''] + labels)\n",
    "# ax.set_yticklabels([''] + labels)\n",
    "plt.xlabel('Predicted')\n",
    "plt.ylabel('True')\n",
    "plt.show()"
   ]
  },
  {
   "cell_type": "code",
   "execution_count": null,
   "metadata": {},
   "outputs": [],
   "source": []
  },
  {
   "cell_type": "code",
   "execution_count": 53,
   "metadata": {},
   "outputs": [
    {
     "data": {
      "text/plain": [
       "'              precision    recall  f1-score   support\\n\\n           0       1.00      0.98      0.99        42\\n           1       0.91      0.97      0.94        32\\n           2       0.95      1.00      0.98        41\\n           3       0.94      0.97      0.95        32\\n           4       1.00      0.92      0.96        36\\n           5       0.97      1.00      0.99        35\\n           6       0.95      0.97      0.96        40\\n           7       1.00      0.97      0.99        39\\n           8       0.89      0.89      0.89        27\\n           9       0.94      0.89      0.91        36\\n\\n    accuracy                           0.96       360\\n   macro avg       0.96      0.96      0.96       360\\nweighted avg       0.96      0.96      0.96       360\\n'"
      ]
     },
     "execution_count": 53,
     "metadata": {},
     "output_type": "execute_result"
    }
   ],
   "source": [
    "from sklearn.metrics import classification_report\n",
    "\n",
    "C=classification_report(testy, predlr1) \n",
    "C"
   ]
  },
  {
   "cell_type": "code",
   "execution_count": 56,
   "metadata": {},
   "outputs": [],
   "source": [
    "# def perf_measure(testy,predlr1):\n",
    "#     TP = 0\n",
    "#     FP = 0\n",
    "#     TN = 0\n",
    "#     FN = 0\n",
    "\n",
    "#     for i in range(len(predlr1)): \n",
    "#         if testy[i]==predlr1[i]==1:\n",
    "#             TP += 1\n",
    "#         if predlr1[i]==1 and testy[i]!=predlr1[i]:\n",
    "#             FP += 1\n",
    "#         if testy[i]==predlr1[i]==0:\n",
    "#             TN += 1\n",
    "#         if predlr1[i]==0 and testy[i]!=predlr1[i]:\n",
    "#             FN += 1\n",
    "\n",
    "#     return(TP, FP, TN, FN)"
   ]
  },
  {
   "cell_type": "code",
   "execution_count": 57,
   "metadata": {},
   "outputs": [
    {
     "data": {
      "text/plain": [
       "array([9, 1, 0, 2, 4, 5, 7, 4, 7, 2, 4, 5, 7, 5, 9, 6, 1, 1, 5, 2, 8, 7,\n",
       "       6, 6, 6, 7, 0, 2, 8, 3, 0, 9, 3, 9, 5, 5, 3, 6, 3, 6, 1, 1, 5, 2,\n",
       "       0, 4, 8, 3, 7, 4, 1, 5, 5, 1, 4, 8, 5, 7, 3, 9, 6, 3, 5, 6, 2, 6,\n",
       "       3, 6, 6, 6, 8, 4, 6, 0, 6, 6, 2, 1, 6, 3, 8, 3, 3, 1, 1, 4, 0, 5,\n",
       "       5, 4, 1, 7, 0, 0, 8, 7, 4, 2, 7, 5, 4, 0, 9, 3, 4, 5, 7, 2, 5, 5,\n",
       "       5, 2, 1, 3, 2, 0, 1, 9, 7, 3, 2, 1, 9, 6, 0, 7, 0, 7, 5, 0, 7, 6,\n",
       "       0, 2, 8, 2, 0, 7, 6, 3, 4, 5, 0, 8, 9, 0, 8, 0, 3, 6, 8, 1, 4, 1,\n",
       "       8, 9, 0, 0, 6, 2, 2, 7, 5, 9, 2, 4, 1, 5, 3, 4, 2, 0, 6, 9, 3, 1,\n",
       "       2, 0, 7, 4, 4, 4, 3, 9, 5, 3, 4, 3, 2, 6, 2, 4, 9, 7, 2, 7, 1, 0,\n",
       "       8, 3, 8, 6, 9, 9, 0, 3, 1, 5, 3, 8, 0, 6, 8, 6, 2, 9, 9, 2, 6, 2,\n",
       "       1, 4, 4, 2, 8, 0, 7, 2, 7, 2, 6, 4, 0, 1, 0, 5, 0, 3, 3, 9, 0, 2,\n",
       "       7, 0, 1, 2, 2, 7, 3, 2, 0, 2, 2, 5, 1, 2, 6, 7, 0, 5, 3, 3, 5, 2,\n",
       "       2, 6, 4, 7, 9, 4, 0, 9, 0, 8, 7, 0, 9, 1, 0, 7, 1, 6, 0, 5, 9, 9,\n",
       "       6, 8, 7, 4, 2, 2, 1, 0, 8, 1, 9, 6, 1, 8, 7, 9, 9, 7, 9, 2, 1, 5,\n",
       "       2, 5, 9, 6, 1, 2, 9, 0, 7, 3, 0, 7, 8, 4, 5, 1, 4, 7, 8, 4, 5, 6,\n",
       "       6, 9, 5, 4, 5, 8, 6, 1, 7, 3, 9, 7, 8, 1, 7, 8, 4, 9, 2, 5, 8, 6,\n",
       "       6, 3, 6, 4, 9, 6, 7, 3])"
      ]
     },
     "execution_count": 57,
     "metadata": {},
     "output_type": "execute_result"
    }
   ],
   "source": [
    "predlr1"
   ]
  },
  {
   "cell_type": "code",
   "execution_count": null,
   "metadata": {},
   "outputs": [],
   "source": []
  },
  {
   "cell_type": "code",
   "execution_count": null,
   "metadata": {},
   "outputs": [],
   "source": []
  }
 ],
 "metadata": {
  "kernelspec": {
   "display_name": "Python 3",
   "language": "python",
   "name": "python3"
  },
  "language_info": {
   "codemirror_mode": {
    "name": "ipython",
    "version": 3
   },
   "file_extension": ".py",
   "mimetype": "text/x-python",
   "name": "python",
   "nbconvert_exporter": "python",
   "pygments_lexer": "ipython3",
   "version": "3.7.4"
  }
 },
 "nbformat": 4,
 "nbformat_minor": 4
}
